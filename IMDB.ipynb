{
 "cells": [
  {
   "cell_type": "markdown",
   "id": "a05064dc",
   "metadata": {},
   "source": [
    "# IMDB Review Sentiment Analysis\n",
    "\n",
    "\n",
    "Data source: https://www.kaggle.com/datasets/columbine/imdb-dataset-sentiment-analysis-in-csv-format\n",
    "\n",
    "Code adapted from: https://www.kaggle.com/code/miladlink/imdb-sentiment-analysis-pytorch"
   ]
  },
  {
   "cell_type": "code",
   "execution_count": 1,
   "id": "2f3a59be",
   "metadata": {},
   "outputs": [],
   "source": [
    "#!conda install -c conda-forge spacy\n",
    "#or\n",
    "#!pip install -U pip setuptools wheel\n",
    "#!pip install -U spacy\n",
    "\n",
    "#then\n",
    "#!pip3 install https://github.com/explosion/spacy-models/releases/download/en_core_web_sm-3.0.0/en_core_web_sm-3.0.0.tar.gz\n",
    "\n",
    "import os\n",
    "import re\n",
    "import sys\n",
    "import time\n",
    "import spacy\n",
    "import pickle\n",
    "import numpy as np\n",
    "import pandas as pd\n",
    "import seaborn as sns\n",
    "\n",
    "from glob import glob\n",
    "from tqdm import tqdm\n",
    "\n",
    "import torch\n",
    "import torch.nn as nn\n",
    "import torch.optim as optim\n",
    "import torch.nn.functional as F\n",
    "from torch.utils.data import DataLoader, Dataset\n",
    "\n",
    "# setup\n",
    "NLP = spacy.load('en_core_web_sm')  # NLP toolkit"
   ]
  },
  {
   "cell_type": "code",
   "execution_count": 2,
   "id": "8fe8179a-2240-4610-845e-96561de6c565",
   "metadata": {},
   "outputs": [],
   "source": [
    "#initialize for random seeds/states\n",
    "seeds=[12345,42,42]\n",
    "def randomize(seed_rng=seeds[0], seed_np=seeds[1], seed_torch=seeds[2]):\n",
    "    os.environ['PYTHONHASHSEED'] = '0'\n",
    "    rng = np.random.default_rng(seed_rng)\n",
    "    np.random.seed(seed_np)\n",
    "    torch.manual_seed(seed_torch)\n",
    "\n",
    "randomize()"
   ]
  },
  {
   "cell_type": "markdown",
   "id": "c7c74309",
   "metadata": {},
   "source": [
    "## Explore data"
   ]
  },
  {
   "cell_type": "code",
   "execution_count": 3,
   "id": "021b4193",
   "metadata": {},
   "outputs": [],
   "source": [
    "# Read dataset\n",
    "train_df = pd.read_csv(\"Train.csv\")\n",
    "valid_df = pd.read_csv(\"Valid.csv\")\n",
    "test_df = pd.read_csv(\"Test.csv\")"
   ]
  },
  {
   "cell_type": "code",
   "execution_count": 4,
   "id": "2de27857",
   "metadata": {},
   "outputs": [
    {
     "name": "stdout",
     "output_type": "stream",
     "text": [
      "number of train: 40000\n",
      "number of valid: 5000\n",
      "number of test: 5000\n"
     ]
    },
    {
     "data": {
      "text/html": [
       "<div>\n",
       "<style scoped>\n",
       "    .dataframe tbody tr th:only-of-type {\n",
       "        vertical-align: middle;\n",
       "    }\n",
       "\n",
       "    .dataframe tbody tr th {\n",
       "        vertical-align: top;\n",
       "    }\n",
       "\n",
       "    .dataframe thead th {\n",
       "        text-align: right;\n",
       "    }\n",
       "</style>\n",
       "<table border=\"1\" class=\"dataframe\">\n",
       "  <thead>\n",
       "    <tr style=\"text-align: right;\">\n",
       "      <th></th>\n",
       "      <th>text</th>\n",
       "      <th>label</th>\n",
       "    </tr>\n",
       "  </thead>\n",
       "  <tbody>\n",
       "    <tr>\n",
       "      <th>0</th>\n",
       "      <td>I grew up (b. 1965) watching and loving the Th...</td>\n",
       "      <td>0</td>\n",
       "    </tr>\n",
       "    <tr>\n",
       "      <th>1</th>\n",
       "      <td>When I put this movie in my DVD player, and sa...</td>\n",
       "      <td>0</td>\n",
       "    </tr>\n",
       "    <tr>\n",
       "      <th>2</th>\n",
       "      <td>Why do people who do not know what a particula...</td>\n",
       "      <td>0</td>\n",
       "    </tr>\n",
       "  </tbody>\n",
       "</table>\n",
       "</div>"
      ],
      "text/plain": [
       "                                                text  label\n",
       "0  I grew up (b. 1965) watching and loving the Th...      0\n",
       "1  When I put this movie in my DVD player, and sa...      0\n",
       "2  Why do people who do not know what a particula...      0"
      ]
     },
     "execution_count": 4,
     "metadata": {},
     "output_type": "execute_result"
    }
   ],
   "source": [
    "print('number of train:', len(train_df))\n",
    "print('number of valid:', len(valid_df))\n",
    "print('number of test:', len(test_df))\n",
    "train_df.head(3)"
   ]
  },
  {
   "cell_type": "code",
   "execution_count": 5,
   "id": "6b404911",
   "metadata": {},
   "outputs": [
    {
     "name": "stderr",
     "output_type": "stream",
     "text": [
      "/opt/apps/flight/env/conda+jupyter/lib/python3.9/site-packages/seaborn/_decorators.py:36: FutureWarning: Pass the following variable as a keyword arg: x. From version 0.12, the only valid positional argument will be `data`, and passing other arguments without an explicit keyword will result in an error or misinterpretation.\n",
      "  warnings.warn(\n"
     ]
    },
    {
     "data": {
      "text/plain": [
       "<AxesSubplot:xlabel='label', ylabel='count'>"
      ]
     },
     "execution_count": 5,
     "metadata": {},
     "output_type": "execute_result"
    },
    {
     "data": {
      "image/png": "[encoded data removed]",
      "text/plain": [
       "<Figure size 432x288 with 1 Axes>"
      ]
     },
     "metadata": {
      "needs_background": "light"
     },
     "output_type": "display_data"
    }
   ],
   "source": [
    "sns.countplot(train_df['label'])"
   ]
  },
  {
   "cell_type": "code",
   "execution_count": 6,
   "id": "524f93c3",
   "metadata": {},
   "outputs": [
    {
     "name": "stderr",
     "output_type": "stream",
     "text": [
      "/opt/apps/flight/env/conda+jupyter/lib/python3.9/site-packages/seaborn/_decorators.py:36: FutureWarning: Pass the following variable as a keyword arg: x. From version 0.12, the only valid positional argument will be `data`, and passing other arguments without an explicit keyword will result in an error or misinterpretation.\n",
      "  warnings.warn(\n"
     ]
    },
    {
     "data": {
      "text/plain": [
       "<AxesSubplot:xlabel='label', ylabel='count'>"
      ]
     },
     "execution_count": 6,
     "metadata": {},
     "output_type": "execute_result"
    },
    {
     "data": {
      "image/png": "[encoded data removed]",
      "text/plain": [
       "<Figure size 432x288 with 1 Axes>"
      ]
     },
     "metadata": {
      "needs_background": "light"
     },
     "output_type": "display_data"
    }
   ],
   "source": [
    "sns.countplot(valid_df['label'])"
   ]
  },
  {
   "cell_type": "code",
   "execution_count": 7,
   "id": "9734cba6",
   "metadata": {},
   "outputs": [
    {
     "name": "stderr",
     "output_type": "stream",
     "text": [
      "/opt/apps/flight/env/conda+jupyter/lib/python3.9/site-packages/seaborn/_decorators.py:36: FutureWarning: Pass the following variable as a keyword arg: x. From version 0.12, the only valid positional argument will be `data`, and passing other arguments without an explicit keyword will result in an error or misinterpretation.\n",
      "  warnings.warn(\n"
     ]
    },
    {
     "data": {
      "text/plain": [
       "<AxesSubplot:xlabel='label', ylabel='count'>"
      ]
     },
     "execution_count": 7,
     "metadata": {},
     "output_type": "execute_result"
    },
    {
     "data": {
      "image/png": "[encoded data removed]",
      "text/plain": [
       "<Figure size 432x288 with 1 Axes>"
      ]
     },
     "metadata": {
      "needs_background": "light"
     },
     "output_type": "display_data"
    }
   ],
   "source": [
    "sns.countplot(test_df['label'])"
   ]
  },
  {
   "cell_type": "code",
   "execution_count": 8,
   "id": "1f52f6c6",
   "metadata": {},
   "outputs": [
    {
     "name": "stdout",
     "output_type": "stream",
     "text": [
      "Min length = 4\n",
      "Max length = 2470\n",
      "Mean = 231.33\n",
      "Std  = 171.18\n",
      "mean + 1 * sigma = 402.51\n"
     ]
    }
   ],
   "source": [
    "num_words = [len(f.split(' ')) for f in train_df['text']]\n",
    "\n",
    "# print statistics\n",
    "print('Min length =', min(num_words))\n",
    "print('Max length =', max(num_words))\n",
    "\n",
    "print('Mean = {:.2f}'.format(np.mean(num_words)))\n",
    "print('Std  = {:.2f}'.format(np.std(num_words)))\n",
    "\n",
    "print('mean + 1 * sigma = {:.2f}'.format(np.mean(num_words) + 1.0 * np.std(num_words)))"
   ]
  },
  {
   "cell_type": "markdown",
   "id": "3827e209",
   "metadata": {
    "tags": []
   },
   "source": [
    "## Tokenize"
   ]
  },
  {
   "cell_type": "code",
   "execution_count": 9,
   "id": "e2223f8a",
   "metadata": {},
   "outputs": [],
   "source": [
    "use_stopwords = True\n",
    "stopwords = NLP.Defaults.stop_words if use_stopwords else []\n",
    "def tokenizer(text, stopwords=stopwords):\n",
    "    text = re.sub(r\"<br /><br />\", \" \", text)\n",
    "    text = re.sub(r\"[\\*\\\"“”\\n\\\\…\\+\\-\\/\\=\\(\\)‘•:\\[\\]\\|’;]\", \" \", str(text))\n",
    "    text = re.sub(r\"[ ]+\", \" \", text)\n",
    "    text = re.sub(r\"\\!+\", \"!\", text)\n",
    "    text = re.sub(r\"\\,+\", \",\", text)\n",
    "    text = re.sub(r\"\\?+\", \"?\", text)\n",
    "    return [x.text for x in NLP.tokenizer(text) if x.text != \" \" and (x.text not in stopwords)]"
   ]
  },
  {
   "cell_type": "code",
   "execution_count": 10,
   "id": "a8f1cec2",
   "metadata": {
    "tags": []
   },
   "outputs": [
    {
     "name": "stdout",
     "output_type": "stream",
     "text": [
      "{'enough', 'out', 'very', 'thereby', 'another', 'many', 'keep', 'hence', 'a', 'n’t', 'call', 'while', '’ll', 'hereafter', 'amount', 'on', 'ca', 'former', 'seemed', 'side', 'latter', 'whose', 'themselves', \"'m\", 'hereby', 'their', 'such', 'wherever', 'how', '‘d', 'always', 'towards', 'name', 'empty', 'whenever', 'one', 'nine', \"'s\", 'yourselves', 'somewhere', 'up', 'made', 'whereby', 'his', 'upon', 'top', 'afterwards', 'here', 'than', 'sometimes', 're', 'serious', 'to', 'might', 'per', 'still', 'herein', 'more', 'never', 'back', 'at', 'them', 'your', 'unless', \"'ll\", 'once', 'everywhere', 'must', 'sometime', 'both', 'by', 'are', 'due', 'they', 'should', 'became', 'may', 'it', 'hereupon', 'few', '‘re', '’m', 'whole', 'have', 'everyone', 'this', 'did', 'ours', 'mostly', 'often', 'my', 'onto', 'him', 'between', 'seem', 'though', 'several', 'beyond', 'whereas', 'together', 'without', 'whom', 'who', 'were', 'since', 'as', 'further', 'her', 'twelve', '’s', 'already', 'nevertheless', 'whereupon', 'less', 'our', 'each', 'be', 'whatever', 'yours', 'sixty', 'within', 'beforehand', 'put', 'its', 'used', 'below', 'then', '‘ll', 'throughout', 'about', 'what', 'herself', 'namely', 'regarding', 'which', 'least', 'will', 'make', 'much', '‘s', 'been', 'next', 'well', 'seeming', 'would', 'using', 'everything', 'five', 'again', 'had', 'indeed', 'but', 'yourself', 'beside', 'could', 'therefore', 'give', 'say', 'yet', 'cannot', 'also', 'during', 'doing', 'does', 'thus', 'an', 'ever', 'across', 'every', 'for', 'so', 'although', 'rather', 'eleven', 'nobody', 'nothing', 'she', 'third', 'hers', 'perhaps', 'down', 'you', 'thereupon', 'above', 'whereafter', 'the', \"'re\", 'those', 'myself', 'formerly', 'any', \"'d\", 'when', 'via', 'not', 'now', 'until', 'whoever', 'amongst', 'against', 'someone', 'full', 'else', 'except', 'six', 'done', 'thereafter', 'anyone', 'eight', 'why', 'otherwise', 'becomes', 'fifty', 'in', 'am', 'move', 'get', 'become', 'alone', 'either', 'besides', 'anything', 'last', 'even', 'with', 'i', 'among', 'own', 'he', 'from', 'that', 'therein', '‘ve', 'around', 'whether', 'quite', '’d', 'moreover', 'off', 'along', 'can', 'four', 'we', 'thru', 'take', 'behind', 'itself', 'seems', 'twenty', 'nowhere', 'is', 'three', 'has', 'these', 'two', 'if', 'because', 'most', 'too', 'and', 'first', '‘m', '’re', 'toward', 'see', 'some', 'us', 'ourselves', 'latterly', 'elsewhere', 'before', 'whither', 'same', 'part', 'something', 'all', 'over', 'thence', 'anyway', 'neither', 'anyhow', 'whence', '’ve', 'other', 'or', 'me', 'of', 'mine', 'being', 'where', 'himself', 'noone', 'front', 'after', 'just', 'becoming', 'hundred', 'however', 'through', 'really', 'nor', 'others', 'meanwhile', 'under', 'wherein', 'bottom', 'fifteen', \"n't\", 'anywhere', 'n‘t', 'was', 'go', 'various', 'almost', 'do', 'forty', 'only', 'somehow', 'there', 'none', 'into', 'show', 'ten', \"'ve\", 'no', 'please'}\n"
     ]
    }
   ],
   "source": [
    "print(stopwords)"
   ]
  },
  {
   "cell_type": "markdown",
   "id": "9aa98d72",
   "metadata": {},
   "source": [
    "## Vocab"
   ]
  },
  {
   "cell_type": "code",
   "execution_count": 11,
   "id": "17529ecd",
   "metadata": {},
   "outputs": [],
   "source": [
    "class Vocabulary(object):\n",
    "    \n",
    "    def __init__(self, tokenizer, stopwords=stopwords):\n",
    "        self.tokenizer = tokenizer\n",
    "        self.stopwords = stopwords\n",
    "        self.word2index = {}\n",
    "        self.word2count = {}\n",
    "        self.index2word = {}\n",
    "        self.count = 0\n",
    "    \n",
    "    def add_word(self, word):\n",
    "        if not word in self.word2index:\n",
    "            self.word2index[word] = self.count\n",
    "            self.word2count[word] = 1\n",
    "            self.index2word[self.count] = word\n",
    "            self.count += 1\n",
    "        else:\n",
    "            self.word2count[word] += 1\n",
    "    \n",
    "    def add_sentence(self, sentence):\n",
    "        for word in self.tokenizer(sentence, self.stopwords):\n",
    "            self.add_word(word)\n",
    "            \n",
    "    def __len__(self):\n",
    "        return self.count"
   ]
  },
  {
   "cell_type": "code",
   "execution_count": 12,
   "id": "f0f994a8",
   "metadata": {},
   "outputs": [],
   "source": [
    "PAD = '<pad>'  # special symbol we use for padding text\n",
    "UNK = '<unk>'  # special symbol we use for rare or unknown word\n",
    "CLASSES = ['negative', 'positive']\n",
    "MAX_LEN = 300     #max input length, if fewer than this, padding is added \n",
    "MIN_COUNT = 10    #if frequency rare than this the word is set as unknown\n",
    "VOCAB_PATH = 'vocab.pkl'\n",
    "BATCH_SIZE = 25"
   ]
  },
  {
   "cell_type": "markdown",
   "id": "7b4ba1fd",
   "metadata": {},
   "source": [
    "## Dataset class"
   ]
  },
  {
   "cell_type": "code",
   "execution_count": 13,
   "id": "5f523aef",
   "metadata": {},
   "outputs": [],
   "source": [
    "class TextClassDataset(Dataset):\n",
    "    \n",
    "    def __init__(self, df, tokenizer, classes, vocab_path='vocab.pkl', max_len=100, min_count=10, stopwords=stopwords):\n",
    "        #assign input---------------\n",
    "        self.df = df\n",
    "        self.vocab_path = vocab_path\n",
    "        self.tokenizer = tokenizer\n",
    "        self.max_len = max_len\n",
    "        self.min_count = min_count\n",
    "        self.classes = classes\n",
    "        self.stopwords = stopwords\n",
    "        #---------------------------\n",
    "        self.vocab = None\n",
    "        self.class_idx = np.unique(df['label'])\n",
    "        self.class_to_index = {classes[i]: i for i in range(len(classes))}        \n",
    "        self.num_classes = len(self.classes)\n",
    "        self.text = df['text']\n",
    "        # build vocabulary from training and validation texts\n",
    "        self.build_vocab()\n",
    "        \n",
    "    def __getitem__(self, index):        \n",
    "        # read text file \n",
    "        text, label = self.df['text'][index], self.df['label'][index]\n",
    "        \n",
    "        # tokenize the text file\n",
    "        tokens = self.tokenizer(text.lower().strip(), self.stopwords)\n",
    "        \n",
    "        # padding and trimming\n",
    "        if len(tokens) < self.max_len:\n",
    "            num_pads = self.max_len - len(tokens)\n",
    "            tokens = tokens + [PAD] * num_pads \n",
    "        elif len(tokens) > self.max_len:\n",
    "            tokens = tokens[:self.max_len]\n",
    "            \n",
    "        # numericalizing\n",
    "        ids = torch.LongTensor(self.max_len)\n",
    "        for i, word in enumerate(tokens):\n",
    "            if word not in self.vocab.word2index:\n",
    "                ids[i] = self.vocab.word2index[UNK]  # unknown words\n",
    "            elif word != PAD and self.vocab.word2count[word] < self.min_count:\n",
    "                ids[i] = self.vocab.word2index[UNK]  # rare words\n",
    "            else:\n",
    "                ids[i] = self.vocab.word2index[word]\n",
    "        \n",
    "        return ids, label\n",
    "    \n",
    "    def __len__(self):\n",
    "        return len(self.df)\n",
    "    \n",
    "    def build_vocab(self):\n",
    "        if not os.path.exists(self.vocab_path):\n",
    "            vocab = Vocabulary(self.tokenizer)\n",
    "            for f in self.df['text']:\n",
    "                for line in f.split('\\n'):\n",
    "                    vocab.add_sentence(line.lower())\n",
    "            # sort words by their frequencies--------\n",
    "            words = [(0, PAD), (0, UNK)]\n",
    "            words += sorted([(c, w) for w, c in vocab.word2count.items()], reverse=True)\n",
    "\n",
    "            self.vocab = Vocabulary(self.tokenizer)\n",
    "            for i, (count, word) in enumerate(words):\n",
    "                self.vocab.word2index[word] = i\n",
    "                self.vocab.word2count[word] = count\n",
    "                self.vocab.index2word[i] = word\n",
    "                self.vocab.count += 1\n",
    "            \n",
    "            pickle.dump(self.vocab, open(self.vocab_path, 'wb'))\n",
    "        else:\n",
    "            self.vocab = pickle.load(open(self.vocab_path, 'rb'))"
   ]
  },
  {
   "cell_type": "markdown",
   "id": "f94dc0f2",
   "metadata": {},
   "source": [
    "### Set dataloader"
   ]
  },
  {
   "cell_type": "code",
   "execution_count": 14,
   "id": "15bf038e",
   "metadata": {},
   "outputs": [],
   "source": [
    "train_ds = TextClassDataset(train_df, tokenizer, CLASSES, VOCAB_PATH, MAX_LEN, MIN_COUNT, stopwords)\n",
    "valid_ds = TextClassDataset(valid_df, tokenizer, CLASSES, VOCAB_PATH, MAX_LEN, MIN_COUNT, stopwords)\n",
    "test_ds = TextClassDataset(test_df, tokenizer, CLASSES, VOCAB_PATH, MAX_LEN, MIN_COUNT, stopwords)\n",
    "\n",
    "train_dl = DataLoader(train_ds, batch_size=BATCH_SIZE, shuffle=True)\n",
    "valid_dl = DataLoader(valid_ds, batch_size=BATCH_SIZE, shuffle=False)\n",
    "test_dl = DataLoader(test_ds, batch_size=BATCH_SIZE, shuffle=False)"
   ]
  },
  {
   "cell_type": "markdown",
   "id": "abd46418",
   "metadata": {},
   "source": [
    "## Explore data after processed"
   ]
  },
  {
   "cell_type": "code",
   "execution_count": 15,
   "id": "4f3eb060",
   "metadata": {},
   "outputs": [
    {
     "name": "stdout",
     "output_type": "stream",
     "text": [
      "text shape: torch.Size([300])\n",
      "text shape: ()\n",
      "number of texts: 40000\n",
      "['negative', 'positive']\n",
      "{'negative': 0, 'positive': 1}\n"
     ]
    }
   ],
   "source": [
    "print('text shape:', train_ds[0][0].shape)\n",
    "print('text shape:', train_ds[0][1].shape)\n",
    "print('number of texts:', len(train_ds))\n",
    "print(train_ds.classes)\n",
    "print(train_ds.class_to_index)"
   ]
  },
  {
   "cell_type": "code",
   "execution_count": 16,
   "id": "ea01c2e4",
   "metadata": {},
   "outputs": [
    {
     "name": "stdout",
     "output_type": "stream",
     "text": [
      "movie dvd player , sat coke chips , expectations . hoping movie contain strong points movie awsome animation , good flowing story , excellent voice cast , funny comedy kick ass soundtrack . , disappointment , found atlantis milo return . read reviews , let . following paragraph directed seen movie , enjoyed primarily points mentioned . scene appears , shock picked atlantis milo return display case local <unk> , expectations . music feels bad imitation movie , voice cast replaced fitting . exception characters , like voice sweet . actual drawings nt bad , animation particular sad sight . storyline pretty weak , like episodes <unk> doo single adventurous story got time . nt misunderstand , good <unk> doo episodes . nt laugh single time , <unk> twice . audience seen movie , especially care similar sequel , fast review movie stand product liked <unk> doo , like movie . , enjoy movie . suspect good kids movie , know . better milo return episode series cartoon channel , breakfast tv . <pad> <pad> <pad> <pad> <pad> <pad> <pad> <pad> <pad> <pad> <pad> <pad> <pad> <pad> <pad> <pad> <pad> <pad> <pad> <pad> <pad> <pad> <pad> <pad> <pad> <pad> <pad> <pad> <pad> <pad> <pad> <pad> <pad> <pad> <pad> <pad> <pad> <pad> <pad> <pad> <pad> <pad> <pad> <pad> <pad> <pad> <pad> <pad> <pad> <pad> <pad> <pad> <pad> <pad> <pad> <pad> <pad> <pad> <pad> <pad> <pad> <pad> <pad> <pad> <pad> <pad> <pad> <pad> <pad> <pad> <pad> <pad> <pad> <pad> <pad> <pad> <pad> <pad> <pad> <pad> <pad> <pad> <pad> <pad> <pad> <pad> <pad> <pad> <pad> <pad> <pad> <pad> <pad> <pad> <pad> <pad> <pad> <pad> <pad> <pad> <pad> <pad> <pad> <pad> <pad> <pad> <pad> <pad> <pad> <pad> <pad> <pad> <pad> <pad> <pad> <pad> <pad> <pad> <pad> <pad> <pad> <pad> <pad> <pad> <pad> <pad> <pad>\n"
     ]
    }
   ],
   "source": [
    "# convert back the sequence of integers into original text\n",
    "print(' '.join([train_ds.vocab.index2word[i.item()] for i in train_ds[1][0]]))"
   ]
  },
  {
   "cell_type": "code",
   "execution_count": 17,
   "id": "c724f2d7",
   "metadata": {},
   "outputs": [
    {
     "name": "stdout",
     "output_type": "stream",
     "text": [
      "When I put this movie in my DVD player, and sat down with a coke and some chips, I had some expectations. I was hoping that this movie would contain some of the strong-points of the first movie: Awsome animation, good flowing story, excellent voice cast, funny comedy and a kick-ass soundtrack. But, to my disappointment, not any of this is to be found in Atlantis: Milo's Return. Had I read some reviews first, I might not have been so let down. The following paragraph will be directed to those who have seen the first movie, and who enjoyed it primarily for the points mentioned.<br /><br />When the first scene appears, your in for a shock if you just picked Atlantis: Milo's Return from the display-case at your local videoshop (or whatever), and had the expectations I had. The music feels as a bad imitation of the first movie, and the voice cast has been replaced by a not so fitting one. (With the exception of a few characters, like the voice of Sweet). The actual drawings isnt that bad, but the animation in particular is a sad sight. The storyline is also pretty weak, as its more like three episodes of Schooby-Doo than the single adventurous story we got the last time. But dont misunderstand, it's not very good Schooby-Doo episodes. I didnt laugh a single time, although I might have sniggered once or twice.<br /><br />To the audience who haven't seen the first movie, or don't especially care for a similar sequel, here is a fast review of this movie as a stand-alone product: If you liked schooby-doo, you might like this movie. If you didn't, you could still enjoy this movie if you have nothing else to do. And I suspect it might be a good kids movie, but I wouldn't know. It might have been better if Milo's Return had been a three-episode series on a cartoon channel, or on breakfast TV.\n"
     ]
    }
   ],
   "source": [
    "# print the original text\n",
    "print(train_ds.text[1])"
   ]
  },
  {
   "cell_type": "code",
   "execution_count": 18,
   "id": "b437636b",
   "metadata": {},
   "outputs": [
    {
     "name": "stdout",
     "output_type": "stream",
     "text": [
      "Vocab size = 25206\n",
      "\n",
      "Most common words:\n",
      ".: 437232\n",
      ",: 435318\n",
      "movie: 70331\n",
      "film: 63527\n",
      "like: 32272\n",
      "!: 30453\n",
      "': 27010\n",
      "good: 23858\n",
      "?: 23680\n",
      "time: 20108\n"
     ]
    }
   ],
   "source": [
    "vocab = train_ds.vocab\n",
    "freqs = [(count, word) for (word, count) in vocab.word2count.items() if count >= MIN_COUNT]\n",
    "vocab_size = len(freqs) + 2  # for PAD and UNK tokens\n",
    "print(f'Vocab size = {vocab_size}')\n",
    "\n",
    "print('\\nMost common words:')\n",
    "for c, w in sorted(freqs, reverse=True)[:10]:\n",
    "    print(f'{w}: {c}')"
   ]
  },
  {
   "cell_type": "markdown",
   "id": "988cbada",
   "metadata": {},
   "source": [
    "## Neural Networks"
   ]
  },
  {
   "cell_type": "code",
   "execution_count": 19,
   "id": "86de485e",
   "metadata": {},
   "outputs": [],
   "source": [
    "# Attention computes a weighted average of the hidden states of the LSTM Model.\n",
    "# In fact, it produce a weight for each hidden state at different time steps\n",
    "\n",
    "class SelfAttention(nn.Module):\n",
    "    def __init__(self, hidden_dim):\n",
    "        super().__init__()\n",
    "        self.projection = nn.Sequential(\n",
    "            nn.Linear(hidden_dim, 64),\n",
    "            nn.ReLU(True),\n",
    "            nn.Linear(64, 1)\n",
    "        )\n",
    "    def forward(self, encoder_outputs):\n",
    "        # encoder_outputs = [batch size, sent len, hid dim]\n",
    "        energy = self.projection(encoder_outputs)\n",
    "        # energy = [batch size, sent len, 1]\n",
    "        weights = F.softmax(energy.squeeze(-1), dim=1)\n",
    "        # weights = [batch size, sent len]\n",
    "        outputs = (encoder_outputs * weights.unsqueeze(-1)).sum(dim=1)\n",
    "        # outputs = [batch size, hid dim]\n",
    "        return outputs, weights"
   ]
  },
  {
   "cell_type": "code",
   "execution_count": 20,
   "id": "fc02667f",
   "metadata": {},
   "outputs": [],
   "source": [
    "class AttentionLSTM(nn.Module):\n",
    "    def __init__(self, vocab_size, embedding_dim, hidden_dim, output_dim, n_layers, bidirectional, dropout):\n",
    "        super().__init__()\n",
    "        self.hidden_dim = hidden_dim\n",
    "        self.embedding_dim = embedding_dim\n",
    "        self.num_layers = n_layers\n",
    "        self.embedding = nn.Embedding(vocab_size, embedding_dim)\n",
    "        self.lstm = nn.LSTM(embedding_dim, hidden_dim, num_layers=n_layers,\n",
    "                            bidirectional=bidirectional, \n",
    "                            dropout= 0 if n_layers < 2 else dropout)\n",
    "        self.attention = SelfAttention(hidden_dim)\n",
    "        self.fc = nn.Linear(hidden_dim, output_dim)\n",
    "        self.dropout = nn.Dropout(dropout)\n",
    "        \n",
    "    def forward(self, x):\n",
    "        # x = [sent len, batch size]\n",
    "        embedded = self.embedding(x)\n",
    "        # embedded = [sent len, batch size, emb dim]\n",
    "        output, (hidden, cell) = self.lstm(embedded)\n",
    "        # use 'batch_first' if you want batch size to be the 1st para\n",
    "        # output = [sent len, batch size, hid dim*num directions]\n",
    "        output = output[:, :, :self.hidden_dim] + output[:, :, self.hidden_dim:]\n",
    "        # output = [sent len, batch size, hid dim]\n",
    "        ouput = output.permute(1, 0, 2)\n",
    "        # ouput = [batch size, sent len, hid dim]\n",
    "        new_embed, weights = self.attention(ouput)\n",
    "        # new_embed = [batch size, hid dim]\n",
    "        # weights = [batch size, sent len]\n",
    "        new_embed = self.dropout(new_embed)\n",
    "        return self.fc(new_embed)"
   ]
  },
  {
   "cell_type": "markdown",
   "id": "7c15fc05",
   "metadata": {},
   "source": [
    "## Training helper functions"
   ]
  },
  {
   "cell_type": "code",
   "execution_count": 21,
   "id": "e6dfe5b9",
   "metadata": {},
   "outputs": [],
   "source": [
    "def train_one(model, loader, loss_fn, optimizer, metric_fn, device):\n",
    "    \"\"\" training one epoch and calculate loss and metrics \"\"\"\n",
    "    # Training model\n",
    "    model.train()\n",
    "    losses = 0.0\n",
    "    metrics = 0.0\n",
    "    steps = len(loader)\n",
    "\n",
    "    for i, (inputs, labels) in enumerate(loader):\n",
    "        # Place to gpu\n",
    "        inputs = inputs.to(device)\n",
    "        labels = labels.to(device)\n",
    "        model.zero_grad()\n",
    "        outputs = model(inputs.t())\n",
    "        # Calculate loss\n",
    "        loss = loss_fn(outputs, labels)\n",
    "        losses += loss\n",
    "        # Backpropagation and update weights\n",
    "        loss.backward()\n",
    "        torch.nn.utils.clip_grad_norm_(model.parameters(), 0.3)\n",
    "        optimizer.step()\n",
    "        # Calculate metrics\n",
    "        metric = metric_fn(outputs, labels)\n",
    "        metrics += metric\n",
    "        # report\n",
    "        sys.stdout.flush()\n",
    "        sys.stdout.write('\\r Step: [%2d/%2d], loss: %.4f - acc: %.4f' % (i, steps, loss.item(), metric))\n",
    "    \n",
    "    sys.stdout.write ('\\r')\n",
    "    return losses.item() / len(loader), metrics / len(loader)"
   ]
  },
  {
   "cell_type": "code",
   "execution_count": 22,
   "id": "c36e5558",
   "metadata": {},
   "outputs": [],
   "source": [
    "def accuracy(outputs, labels):\n",
    "    \"\"\" calculate percent of true labels \"\"\"\n",
    "    # predicted labels\n",
    "    _, preds = torch.max(outputs, dim = 1)\n",
    "    return torch.sum(preds == labels).item() / len(preds)"
   ]
  },
  {
   "cell_type": "code",
   "execution_count": 23,
   "id": "a4831cac",
   "metadata": {},
   "outputs": [],
   "source": [
    "def evaluate(model, loader, loss_fn, metric_fn, device):\n",
    "    \"\"\" Evaluate trained weights using calculate loss and metrics \"\"\"\n",
    "    # Evaluate model\n",
    "    model.eval()\n",
    "    losses = 0.0\n",
    "    metrics = 0.0\n",
    "    with torch.no_grad():\n",
    "        for inputs, labels in loader:\n",
    "            inputs = inputs.to(device)\n",
    "            labels = labels.to(device)\n",
    "            outputs = model(inputs.t())\n",
    "            loss = loss_fn(outputs, labels)\n",
    "            losses += loss\n",
    "            metrics += metric_fn(outputs, labels)\n",
    "    return losses.item() / len(loader), metrics / len(loader)"
   ]
  },
  {
   "cell_type": "code",
   "execution_count": 24,
   "id": "9333a6f0",
   "metadata": {},
   "outputs": [],
   "source": [
    "def train(model, train_dl, valid_dl, loss_fn, optimizer, num_epochs, metric_fn, device, checkpoint_path, scheduler=None, load_model=False, prev_best_loss=None):\n",
    "    \"\"\" fiting model to dataloaders, saving best weights and showing results \"\"\"\n",
    "    # to continue training from saved weights\n",
    "    if load_model:\n",
    "        load_checkpoint(torch.load(checkpoint_path), model)\n",
    "    if prev_best_loss is None:\n",
    "        best_loss = 1000000\n",
    "    else:\n",
    "        best_loss = prev_best_loss\n",
    "    losses, val_losses, accs, val_accs = [], [], [], []\n",
    "    since = time.time()\n",
    "\n",
    "    for epoch in range(num_epochs):\n",
    "        loss, acc = train_one(model, train_dl, loss_fn, optimizer, metric_fn, device)\n",
    "        val_loss, val_acc = evaluate (model, valid_dl, loss_fn, metric_fn, device)\n",
    "        losses.append(loss)\n",
    "        accs.append(acc)\n",
    "        val_losses.append(val_loss)\n",
    "        val_accs.append(val_acc)\n",
    "        # learning rate scheduler------\n",
    "        if scheduler is not None:\n",
    "            scheduler.step()\n",
    "        # save weights if improved-----\n",
    "        if val_loss < best_loss:\n",
    "            best_loss = val_loss\n",
    "            best_wts = model.state_dict().copy()\n",
    "            torch.save(best_wts, checkpoint_path)\n",
    "            print('Checkpoint Saved! Epoch {} is better.***************************'.format(epoch+1))\n",
    "        print('Epoch [{}/{}], loss: {:.4f} - acc: {:.4f} - val_loss: {:.4f} - val_acc: {:.4f}'.format (epoch + 1, num_epochs, loss, acc, val_loss, val_acc))\n",
    "\n",
    "    period = time.time() - since\n",
    "    print('Training complete in {:.0f}m {:.0f}s'.format (period // 60, period % 60))\n",
    "    model.load_state_dict(best_wts)\n",
    "    return dict(loss = losses, val_loss = val_losses, acc = accs, val_acc = val_accs)"
   ]
  },
  {
   "cell_type": "markdown",
   "id": "39bd1958",
   "metadata": {},
   "source": [
    "## Train"
   ]
  },
  {
   "cell_type": "code",
   "execution_count": 25,
   "id": "990f324a",
   "metadata": {},
   "outputs": [
    {
     "name": "stdout",
     "output_type": "stream",
     "text": [
      "cuda\n"
     ]
    }
   ],
   "source": [
    "DEVICE = torch.device('cuda' if torch.cuda.is_available() else 'cpu')\n",
    "print(DEVICE)"
   ]
  },
  {
   "cell_type": "code",
   "execution_count": 26,
   "id": "03f25429-ff2c-4b3a-87c9-b424a661a5a4",
   "metadata": {},
   "outputs": [],
   "source": [
    "# LSTM parameters\n",
    "EMBED_SIZE = 256\n",
    "HIDDEN_SIZE = 1024\n",
    "NUM_LAYERS = 1\n",
    "\n",
    "# training parameters\n",
    "LR = 0.001\n",
    "NUM_EPOCHS = 2\n",
    "CHECKPOINT_PATH = 'IMDB_Normal.pth'"
   ]
  },
  {
   "cell_type": "code",
   "execution_count": 27,
   "id": "464a5f25",
   "metadata": {},
   "outputs": [],
   "source": [
    "model = AttentionLSTM(vocab_size, EMBED_SIZE, HIDDEN_SIZE, train_ds.num_classes, NUM_LAYERS, bidirectional=True, dropout=0.5).to(DEVICE)\n",
    "loss_fn = nn.CrossEntropyLoss().to(DEVICE)\n",
    "optimizer = optim.Adam(model.parameters(), lr=LR, betas=(0.7, 0.99))\n",
    "scheduler = optim.lr_scheduler.StepLR(optimizer, step_size=1, gamma=0.9)"
   ]
  },
  {
   "cell_type": "code",
   "execution_count": 28,
   "id": "7d7a108c",
   "metadata": {},
   "outputs": [
    {
     "name": "stdout",
     "output_type": "stream",
     "text": [
      "Checkpoint Saved! Epoch 1 is better.***************************\n",
      "Epoch [1/2], loss: 0.3999 - acc: 0.8146 - val_loss: 0.2825 - val_acc: 0.8784\n",
      "Epoch [2/2], loss: 0.2176 - acc: 0.9169 - val_loss: 0.2867 - val_acc: 0.8946\n",
      "Training complete in 5m 20s\n"
     ]
    }
   ],
   "source": [
    "history = train(model, train_dl, valid_dl, loss_fn, optimizer, NUM_EPOCHS, accuracy, DEVICE, CHECKPOINT_PATH, scheduler)"
   ]
  },
  {
   "cell_type": "markdown",
   "id": "73af98c9",
   "metadata": {},
   "source": [
    "## Test"
   ]
  },
  {
   "cell_type": "code",
   "execution_count": 29,
   "id": "40516018",
   "metadata": {},
   "outputs": [
    {
     "data": {
      "text/plain": [
       "<All keys matched successfully>"
      ]
     },
     "execution_count": 29,
     "metadata": {},
     "output_type": "execute_result"
    }
   ],
   "source": [
    "model.load_state_dict(torch.load(CHECKPOINT_PATH))"
   ]
  },
  {
   "cell_type": "code",
   "execution_count": 30,
   "id": "6bf13725",
   "metadata": {},
   "outputs": [
    {
     "data": {
      "text/plain": [
       "(0.29209945678710936, 0.8821999999999997)"
      ]
     },
     "execution_count": 30,
     "metadata": {},
     "output_type": "execute_result"
    }
   ],
   "source": [
    "evaluate(model, test_dl, loss_fn, accuracy, DEVICE)"
   ]
  },
  {
   "cell_type": "code",
   "execution_count": 31,
   "id": "2077028f-f331-47a3-84e5-444a0093fb7b",
   "metadata": {},
   "outputs": [],
   "source": [
    "def gen_base(BATCH_SIZE, MAX_LEN, MIN_COUNT, stopwords=stopwords, NUM_EPOCHS=2):\n",
    "    train_ds = TextClassDataset(train_df, tokenizer, CLASSES, VOCAB_PATH, MAX_LEN, MIN_COUNT, stopwords)\n",
    "    valid_ds = TextClassDataset(valid_df, tokenizer, CLASSES, VOCAB_PATH, MAX_LEN, MIN_COUNT, stopwords)\n",
    "    test_ds = TextClassDataset(test_df, tokenizer, CLASSES, VOCAB_PATH, MAX_LEN, MIN_COUNT, stopwords)\n",
    "\n",
    "    train_dl = DataLoader(train_ds, batch_size=BATCH_SIZE, shuffle=True)\n",
    "    valid_dl = DataLoader(valid_ds, batch_size=BATCH_SIZE, shuffle=False)\n",
    "    test_dl = DataLoader(test_ds, batch_size=BATCH_SIZE, shuffle=False)\n",
    "    \n",
    "    model = AttentionLSTM(vocab_size, EMBED_SIZE, HIDDEN_SIZE, train_ds.num_classes, NUM_LAYERS, bidirectional=True, dropout=0.5).to(DEVICE)\n",
    "    loss_fn = nn.CrossEntropyLoss().to(DEVICE)\n",
    "    optimizer = optim.Adam(model.parameters(), lr=LR, betas=(0.7, 0.99))\n",
    "    scheduler = optim.lr_scheduler.StepLR(optimizer, step_size=1, gamma=0.9)\n",
    "    \n",
    "    randomize()\n",
    "    history = train(model, train_dl, valid_dl, loss_fn, optimizer, NUM_EPOCHS, accuracy, DEVICE, CHECKPOINT_PATH, scheduler)\n",
    "    return history, model"
   ]
  },
  {
   "cell_type": "code",
   "execution_count": 32,
   "id": "163031a2-c675-424a-99ea-4836d4c2a0ec",
   "metadata": {},
   "outputs": [
    {
     "name": "stdout",
     "output_type": "stream",
     "text": [
      "Checkpoint Saved! Epoch 1 is better.***************************\n",
      "Epoch [1/2], loss: 0.3688 - acc: 0.8365 - val_loss: 0.3114 - val_acc: 0.8640\n",
      "Checkpoint Saved! Epoch 2 is better.***************************\n",
      "Epoch [2/2], loss: 0.2122 - acc: 0.9206 - val_loss: 0.2814 - val_acc: 0.8970\n",
      "Training complete in 5m 9s\n"
     ]
    }
   ],
   "source": [
    "history, model = gen_base(BATCH_SIZE, MAX_LEN, MIN_COUNT, NUM_EPOCHS=NUM_EPOCHS)"
   ]
  },
  {
   "cell_type": "code",
   "execution_count": null,
   "id": "6ff1dd1d-fa7a-42a0-8dba-d1926a27dea9",
   "metadata": {},
   "outputs": [],
   "source": [
    "NUM_EPOCHS=2\n",
    "history={}\n",
    "model={}\n",
    "#torch.Backends.Cudnn.Enabled = False\n",
    "for BATCH_SIZE in [16, 25, 50]:\n",
    "    for MAX_LEN in [300, 400, 500]:\n",
    "        for MIN_COUNT in [10, 20]:\n",
    "            print('BATCH_SIZE: {}; MAX_LEN: {}; MIN_COUNT: {}'.format(BATCH_SIZE, MAX_LEN, MIN_COUNT),'------------------------------------------')\n",
    "            key = 'b'+str(BATCH_SIZE)+'max'+str(MAX_LEN)+'min'+str(MIN_COUNT)\n",
    "            history[key], model[key] = gen_base(BATCH_SIZE, MAX_LEN, MIN_COUNT, NUM_EPOCHS=NUM_EPOCHS)"
   ]
  },
  {
   "cell_type": "markdown",
   "id": "18e8fa40",
   "metadata": {},
   "source": [
    "### confusion matrix, plot to be made..."
   ]
  },
  {
   "cell_type": "code",
   "execution_count": null,
   "id": "5871b432",
   "metadata": {},
   "outputs": [],
   "source": []
  },
  {
   "cell_type": "markdown",
   "id": "cac5f104",
   "metadata": {},
   "source": [
    "###  explore some wrong predictions..."
   ]
  },
  {
   "cell_type": "code",
   "execution_count": null,
   "id": "82c68a80",
   "metadata": {},
   "outputs": [],
   "source": []
  }
 ],
 "metadata": {
  "kernelspec": {
   "display_name": "Python 3 (ipykernel)",
   "language": "python",
   "name": "python3"
  },
  "language_info": {
   "codemirror_mode": {
    "name": "ipython",
    "version": 3
   },
   "file_extension": ".py",
   "mimetype": "text/x-python",
   "name": "python",
   "nbconvert_exporter": "python",
   "pygments_lexer": "ipython3",
   "version": "3.9.5"
  }
 },
 "nbformat": 4,
 "nbformat_minor": 5
}
