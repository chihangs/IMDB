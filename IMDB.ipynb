{
 "cells": [
  {
   "cell_type": "markdown",
   "id": "a05064dc",
   "metadata": {},
   "source": [
    "# IMDB Review Sentiment Analysis\n",
    "\n",
    "\n",
    "Data source: https://www.kaggle.com/datasets/columbine/imdb-dataset-sentiment-analysis-in-csv-format\n",
    "\n",
    "Code adapted from: https://www.kaggle.com/code/miladlink/imdb-sentiment-analysis-pytorch"
   ]
  },
  {
   "cell_type": "code",
   "execution_count": 1,
   "id": "2f3a59be",
   "metadata": {},
   "outputs": [],
   "source": [
    "#!conda install -c conda-forge spacy\n",
    "#or\n",
    "#!pip install -U pip setuptools wheel\n",
    "#!pip install -U spacy\n",
    "\n",
    "#then\n",
    "#!pip3 install https://github.com/explosion/spacy-models/releases/download/en_core_web_sm-3.0.0/en_core_web_sm-3.0.0.tar.gz\n",
    "\n",
    "import os, sys, re\n",
    "import time\n",
    "import copy\n",
    "import pickle\n",
    "import math\n",
    "import numpy as np\n",
    "import pandas as pd\n",
    "import seaborn as sns\n",
    "import matplotlib.pyplot as plt\n",
    "\n",
    "import torch\n",
    "import torch.nn as nn\n",
    "import torch.optim as optim\n",
    "import torch.nn.functional as F\n",
    "from torch.utils.data import DataLoader, Dataset\n",
    "from torch.nn import TransformerEncoder, TransformerEncoderLayer\n",
    "\n",
    "from models import LSTM, GRU, AttentionLSTM, Transformer\n",
    "\n",
    "import spacy\n",
    "# setup\n",
    "NLP = spacy.load('en_core_web_sm')  # NLP toolkit"
   ]
  },
  {
   "cell_type": "code",
   "execution_count": 2,
   "id": "4781d8b6-80f4-4d16-a41a-c9bf3175e247",
   "metadata": {},
   "outputs": [],
   "source": [
    "path = os.path.abspath(os.getcwd())\n",
    "path_para = path+'/para'\n",
    "if not os.path.exists(path_para):\n",
    "    os.makedirs(path_para)"
   ]
  },
  {
   "cell_type": "code",
   "execution_count": 3,
   "id": "8fe8179a-2240-4610-845e-96561de6c565",
   "metadata": {},
   "outputs": [],
   "source": [
    "#initialize for random seeds/states\n",
    "seeds=[12345,42,42]\n",
    "def randomize(seed_rng=seeds[0], seed_np=seeds[1], seed_torch=seeds[2]):\n",
    "    os.environ['PYTHONHASHSEED'] = '0'\n",
    "    rng = np.random.default_rng(seed_rng)\n",
    "    np.random.seed(seed_np)\n",
    "    torch.manual_seed(seed_torch)\n",
    "\n",
    "randomize()"
   ]
  },
  {
   "cell_type": "code",
   "execution_count": 4,
   "id": "525a6c9f-3c49-4bd1-a843-d732ebd34acd",
   "metadata": {},
   "outputs": [
    {
     "name": "stdout",
     "output_type": "stream",
     "text": [
      "cuda\n"
     ]
    }
   ],
   "source": [
    "device = torch.device('cuda' if torch.cuda.is_available() else 'cpu')\n",
    "print(device)"
   ]
  },
  {
   "cell_type": "markdown",
   "id": "c7c74309",
   "metadata": {},
   "source": [
    "## Explore data"
   ]
  },
  {
   "cell_type": "code",
   "execution_count": 5,
   "id": "dd107e18-1219-4b34-be87-3a9c8bf6799d",
   "metadata": {},
   "outputs": [],
   "source": [
    "# Read dataset\n",
    "train_df = pd.read_csv(\"data/Train.csv\")\n",
    "valid_df = pd.read_csv(\"data/Valid.csv\")\n",
    "test_df = pd.read_csv(\"data/Test.csv\")"
   ]
  },
  {
   "cell_type": "code",
   "execution_count": 6,
   "id": "2de27857",
   "metadata": {},
   "outputs": [
    {
     "name": "stdout",
     "output_type": "stream",
     "text": [
      "number of train: 40000\n",
      "number of valid: 5000\n",
      "number of test: 5000\n"
     ]
    },
    {
     "data": {
      "text/html": [
       "<div>\n",
       "<style scoped>\n",
       "    .dataframe tbody tr th:only-of-type {\n",
       "        vertical-align: middle;\n",
       "    }\n",
       "\n",
       "    .dataframe tbody tr th {\n",
       "        vertical-align: top;\n",
       "    }\n",
       "\n",
       "    .dataframe thead th {\n",
       "        text-align: right;\n",
       "    }\n",
       "</style>\n",
       "<table border=\"1\" class=\"dataframe\">\n",
       "  <thead>\n",
       "    <tr style=\"text-align: right;\">\n",
       "      <th></th>\n",
       "      <th>text</th>\n",
       "      <th>label</th>\n",
       "    </tr>\n",
       "  </thead>\n",
       "  <tbody>\n",
       "    <tr>\n",
       "      <th>0</th>\n",
       "      <td>I grew up (b. 1965) watching and loving the Th...</td>\n",
       "      <td>0</td>\n",
       "    </tr>\n",
       "    <tr>\n",
       "      <th>1</th>\n",
       "      <td>When I put this movie in my DVD player, and sa...</td>\n",
       "      <td>0</td>\n",
       "    </tr>\n",
       "    <tr>\n",
       "      <th>2</th>\n",
       "      <td>Why do people who do not know what a particula...</td>\n",
       "      <td>0</td>\n",
       "    </tr>\n",
       "  </tbody>\n",
       "</table>\n",
       "</div>"
      ],
      "text/plain": [
       "                                                text  label\n",
       "0  I grew up (b. 1965) watching and loving the Th...      0\n",
       "1  When I put this movie in my DVD player, and sa...      0\n",
       "2  Why do people who do not know what a particula...      0"
      ]
     },
     "execution_count": 6,
     "metadata": {},
     "output_type": "execute_result"
    }
   ],
   "source": [
    "print('number of train:', len(train_df))\n",
    "print('number of valid:', len(valid_df))\n",
    "print('number of test:', len(test_df))\n",
    "train_df.head(3)"
   ]
  },
  {
   "cell_type": "code",
   "execution_count": 7,
   "id": "6b404911",
   "metadata": {},
   "outputs": [
    {
     "name": "stderr",
     "output_type": "stream",
     "text": [
      "/opt/apps/flight/env/conda+jupyter/lib/python3.9/site-packages/seaborn/_decorators.py:36: FutureWarning: Pass the following variable as a keyword arg: x. From version 0.12, the only valid positional argument will be `data`, and passing other arguments without an explicit keyword will result in an error or misinterpretation.\n",
      "  warnings.warn(\n"
     ]
    },
    {
     "data": {
      "text/plain": [
       "<AxesSubplot:xlabel='label', ylabel='count'>"
      ]
     },
     "execution_count": 7,
     "metadata": {},
     "output_type": "execute_result"
    },
    {
     "data": {
      "image/png": "[encoded data removed]",
      "text/plain": [
       "<Figure size 432x288 with 1 Axes>"
      ]
     },
     "metadata": {
      "needs_background": "light"
     },
     "output_type": "display_data"
    }
   ],
   "source": [
    "sns.countplot(train_df['label'])"
   ]
  },
  {
   "cell_type": "code",
   "execution_count": 8,
   "id": "524f93c3",
   "metadata": {},
   "outputs": [
    {
     "name": "stderr",
     "output_type": "stream",
     "text": [
      "/opt/apps/flight/env/conda+jupyter/lib/python3.9/site-packages/seaborn/_decorators.py:36: FutureWarning: Pass the following variable as a keyword arg: x. From version 0.12, the only valid positional argument will be `data`, and passing other arguments without an explicit keyword will result in an error or misinterpretation.\n",
      "  warnings.warn(\n"
     ]
    },
    {
     "data": {
      "text/plain": [
       "<AxesSubplot:xlabel='label', ylabel='count'>"
      ]
     },
     "execution_count": 8,
     "metadata": {},
     "output_type": "execute_result"
    },
    {
     "data": {
      "image/png": "[encoded data removed]",
      "text/plain": [
       "<Figure size 432x288 with 1 Axes>"
      ]
     },
     "metadata": {
      "needs_background": "light"
     },
     "output_type": "display_data"
    }
   ],
   "source": [
    "sns.countplot(valid_df['label'])"
   ]
  },
  {
   "cell_type": "code",
   "execution_count": 9,
   "id": "9734cba6",
   "metadata": {},
   "outputs": [
    {
     "name": "stderr",
     "output_type": "stream",
     "text": [
      "/opt/apps/flight/env/conda+jupyter/lib/python3.9/site-packages/seaborn/_decorators.py:36: FutureWarning: Pass the following variable as a keyword arg: x. From version 0.12, the only valid positional argument will be `data`, and passing other arguments without an explicit keyword will result in an error or misinterpretation.\n",
      "  warnings.warn(\n"
     ]
    },
    {
     "data": {
      "text/plain": [
       "<AxesSubplot:xlabel='label', ylabel='count'>"
      ]
     },
     "execution_count": 9,
     "metadata": {},
     "output_type": "execute_result"
    },
    {
     "data": {
      "image/png": "[encoded data removed]",
      "text/plain": [
       "<Figure size 432x288 with 1 Axes>"
      ]
     },
     "metadata": {
      "needs_background": "light"
     },
     "output_type": "display_data"
    }
   ],
   "source": [
    "sns.countplot(test_df['label'])"
   ]
  },
  {
   "cell_type": "code",
   "execution_count": 10,
   "id": "1f52f6c6",
   "metadata": {},
   "outputs": [
    {
     "name": "stdout",
     "output_type": "stream",
     "text": [
      "Min length = 4\n",
      "Max length = 2470\n",
      "Mean = 231.33\n",
      "Std  = 171.18\n",
      "mean + 1 * sigma = 402.51\n"
     ]
    }
   ],
   "source": [
    "num_words = [len(f.split(' ')) for f in train_df['text']]\n",
    "\n",
    "# print statistics\n",
    "print('Min length =', min(num_words))\n",
    "print('Max length =', max(num_words))\n",
    "\n",
    "print('Mean = {:.2f}'.format(np.mean(num_words)))\n",
    "print('Std  = {:.2f}'.format(np.std(num_words)))\n",
    "\n",
    "print('mean + 1 * sigma = {:.2f}'.format(np.mean(num_words) + 1.0 * np.std(num_words)))"
   ]
  },
  {
   "cell_type": "markdown",
   "id": "3827e209",
   "metadata": {
    "tags": []
   },
   "source": [
    "## Tokenize"
   ]
  },
  {
   "cell_type": "code",
   "execution_count": 11,
   "id": "e2223f8a",
   "metadata": {},
   "outputs": [],
   "source": [
    "use_stopwords = True\n",
    "stopwords = NLP.Defaults.stop_words if use_stopwords else []\n",
    "def tokenizer(text, stopwords=stopwords):\n",
    "    text = re.sub(r\"<br /><br />\", \" \", text)\n",
    "    text = re.sub(r\"[\\*\\\"“”\\n\\\\…\\+\\-\\/\\=\\(\\)‘•:\\[\\]\\|’;]\", \" \", str(text))\n",
    "    text = re.sub(r\"[ ]+\", \" \", text)\n",
    "    text = re.sub(r\"\\!+\", \"!\", text)\n",
    "    text = re.sub(r\"\\,+\", \",\", text)\n",
    "    text = re.sub(r\"\\?+\", \"?\", text)\n",
    "    return [x.text for x in NLP.tokenizer(text) if x.text != \" \" and (x.text not in stopwords)]"
   ]
  },
  {
   "cell_type": "code",
   "execution_count": 12,
   "id": "a8f1cec2",
   "metadata": {
    "tags": []
   },
   "outputs": [
    {
     "name": "stdout",
     "output_type": "stream",
     "text": [
      "{'somehow', '’m', 'put', 'this', 'although', 'how', 'as', 'elsewhere', 'fifty', 'anything', 'both', 'seem', 'anyone', 'few', 'but', \"'ll\", 'due', 'well', 'when', '‘re', 'same', 'always', 'thereby', 'thence', 'over', 'nevertheless', 'besides', 'forty', 'again', 'i', 'seeming', 'your', 'via', 'onto', 'nine', 'quite', 'only', 'must', 'the', 'get', 'least', 'less', 'until', 'regarding', 'our', 'afterwards', 'no', 'to', 'beside', '‘s', 'which', 'for', 'else', 'some', 'more', '‘ve', 'please', 'nothing', 'whereby', 'am', 'becomes', 'itself', 'within', 'seemed', 'themselves', 'was', 'side', 'own', 'ca', 'neither', 'will', 'because', 'have', 'were', 'once', 'among', 'whence', 'eight', 'others', 'move', 'can', 'used', 'everyone', \"n't\", 'their', 'otherwise', 'amongst', 'throughout', 'anyway', 'those', 'all', 'during', 'somewhere', 'meanwhile', 'now', 'there', 'his', 'any', 'became', 'latter', 'nowhere', 'whither', 'with', 'each', 'everywhere', 'therein', 'third', 'at', 'towards', 'has', 'hereby', 'do', 'too', 'three', 'further', 'since', 'serious', 'along', 'up', 'thereafter', 'almost', 'moreover', 'most', 'just', 'call', 'even', 'everything', 'really', 'twelve', 'a', 'anyhow', 'n‘t', 'he', 'next', 'eleven', 'ever', 'someone', 'by', 'here', 'alone', 'are', 'around', 'take', 'cannot', 'fifteen', 'doing', 'two', 'sometime', 'n’t', 'it', 'thereupon', \"'ve\", 'where', '‘ll', 're', 'had', 'seems', 'either', 'whereupon', 'keep', 'using', 'every', 'various', 'four', 'such', 'myself', 'whoever', 'and', 'nobody', 'also', 'amount', 'go', '‘m', 'perhaps', \"'d\", 'five', 'whom', 'last', 'upon', 'still', 'beforehand', 'you', 'none', 'several', 'why', 'already', '‘d', 'back', 'yet', 'my', 'thru', 'namely', 'former', 'him', 'make', 'whereas', 'another', 'thus', 'whatever', 'against', 'mostly', 'one', 'below', 'could', 'never', 'than', 'out', '’d', '’ve', 'become', 'empty', \"'m\", 'of', 'herself', 'formerly', 'on', 'together', 'indeed', 'give', 'anywhere', 'say', 'hers', 'show', 'should', 'between', 'top', \"'s\", 'herein', 'been', 'first', 'across', '’s', '’ll', 'very', 'sometimes', 'us', 'an', 'would', 'down', 'under', 'other', 'himself', 'might', 'me', 'into', 'nor', 'many', 'noone', 'something', 'unless', 'wherever', 'these', 'whether', 'made', 'above', 'ours', 'her', 'rather', 'hence', 'whole', 'behind', 'in', 'about', 'front', 'off', 'they', 'then', 'whereafter', 'she', 'ourselves', 'wherein', 'often', '’re', 'name', 'hereupon', 'hundred', 'if', 'from', 'without', 'six', 'after', 'so', 'not', 'we', 'therefore', 'what', 'though', 'becoming', 'through', 'hereafter', 'yourself', 'yours', 'ten', 'being', \"'re\", 'be', 'is', 'its', 'that', 'except', 'mine', 'them', 'per', 'did', 'full', 'toward', 'much', 'beyond', 'twenty', 'does', 'whose', 'however', 'bottom', 'see', 'while', 'sixty', 'latterly', 'yourselves', 'part', 'or', 'whenever', 'may', 'done', 'before', 'enough', 'who'}\n"
     ]
    }
   ],
   "source": [
    "print(stopwords)"
   ]
  },
  {
   "cell_type": "markdown",
   "id": "9aa98d72",
   "metadata": {},
   "source": [
    "## Vocab"
   ]
  },
  {
   "cell_type": "code",
   "execution_count": 13,
   "id": "17529ecd",
   "metadata": {},
   "outputs": [],
   "source": [
    "class Vocabulary(object):\n",
    "    \n",
    "    def __init__(self, tokenizer, stopwords=stopwords):\n",
    "        self.tokenizer = tokenizer\n",
    "        self.stopwords = stopwords\n",
    "        self.word2index = {}\n",
    "        self.word2count = {}\n",
    "        self.index2word = {}\n",
    "        self.count = 0\n",
    "    \n",
    "    def add_word(self, word):\n",
    "        if not word in self.word2index:\n",
    "            self.word2index[word] = self.count\n",
    "            self.word2count[word] = 1\n",
    "            self.index2word[self.count] = word\n",
    "            self.count += 1\n",
    "        else:\n",
    "            self.word2count[word] += 1\n",
    "    \n",
    "    def add_sentence(self, sentence):\n",
    "        for word in self.tokenizer(sentence, self.stopwords):\n",
    "            self.add_word(word)\n",
    "            \n",
    "    def __len__(self):\n",
    "        return self.count"
   ]
  },
  {
   "cell_type": "code",
   "execution_count": 14,
   "id": "f0f994a8",
   "metadata": {},
   "outputs": [],
   "source": [
    "PAD = '<pad>'  # special symbol we use for padding text\n",
    "UNK = '<unk>'  # special symbol we use for rare or unknown word\n",
    "CLASSES = ['negative', 'positive']\n",
    "MAX_LEN = 400     #max input length, if fewer than this, padding is added \n",
    "MIN_COUNT = 10    #if frequency rare than this the word is set as unknown\n",
    "VOCAB_PATH = 'vocab.pkl'\n",
    "BATCH_SIZE = 25"
   ]
  },
  {
   "cell_type": "markdown",
   "id": "7b4ba1fd",
   "metadata": {},
   "source": [
    "## Dataset class"
   ]
  },
  {
   "cell_type": "code",
   "execution_count": 15,
   "id": "5f523aef",
   "metadata": {},
   "outputs": [],
   "source": [
    "class TextClassDataset(Dataset):\n",
    "    \n",
    "    def __init__(self, df, tokenizer, classes, vocab_path='vocab.pkl', max_len=100, min_count=10, stopwords=stopwords):\n",
    "        #assign input---------------\n",
    "        self.df = df\n",
    "        self.vocab_path = vocab_path\n",
    "        self.tokenizer = tokenizer\n",
    "        self.max_len = max_len\n",
    "        self.min_count = min_count\n",
    "        self.classes = classes\n",
    "        self.stopwords = stopwords\n",
    "        #---------------------------\n",
    "        self.vocab = None\n",
    "        self.class_idx = np.unique(df['label'])\n",
    "        self.class_to_index = {classes[i]: i for i in range(len(classes))}        \n",
    "        self.num_classes = len(self.classes)\n",
    "        self.text = df['text']\n",
    "        # build vocabulary from training and validation texts\n",
    "        self.build_vocab()\n",
    "        \n",
    "    def __getitem__(self, index):        \n",
    "        # read text file \n",
    "        text, label = self.df['text'][index], self.df['label'][index]\n",
    "        \n",
    "        # tokenize the text file\n",
    "        tokens = self.tokenizer(text.lower().strip(), self.stopwords)\n",
    "        \n",
    "        # padding and trimming\n",
    "        if len(tokens) < self.max_len:\n",
    "            num_pads = self.max_len - len(tokens)\n",
    "            tokens = tokens + [PAD] * num_pads \n",
    "        elif len(tokens) > self.max_len:\n",
    "            tokens = tokens[:self.max_len]\n",
    "            \n",
    "        # numericalizing\n",
    "        ids = torch.LongTensor(self.max_len)\n",
    "        for i, word in enumerate(tokens):\n",
    "            if word not in self.vocab.word2index:\n",
    "                ids[i] = self.vocab.word2index[UNK]  # unknown words\n",
    "            elif word != PAD and self.vocab.word2count[word] < self.min_count:\n",
    "                ids[i] = self.vocab.word2index[UNK]  # rare words\n",
    "            else:\n",
    "                ids[i] = self.vocab.word2index[word]\n",
    "        \n",
    "        return ids, label\n",
    "    \n",
    "    def __len__(self):\n",
    "        return len(self.df)\n",
    "    \n",
    "    def build_vocab(self):\n",
    "        if not os.path.exists(self.vocab_path):\n",
    "            vocab = Vocabulary(self.tokenizer)\n",
    "            for f in self.df['text']:\n",
    "                for line in f.split('\\n'):\n",
    "                    vocab.add_sentence(line.lower())\n",
    "            # sort words by their frequencies--------\n",
    "            words = [(0, PAD), (0, UNK)]\n",
    "            words += sorted([(c, w) for w, c in vocab.word2count.items()], reverse=True)\n",
    "\n",
    "            self.vocab = Vocabulary(self.tokenizer)\n",
    "            for i, (count, word) in enumerate(words):\n",
    "                self.vocab.word2index[word] = i\n",
    "                self.vocab.word2count[word] = count\n",
    "                self.vocab.index2word[i] = word\n",
    "                self.vocab.count += 1\n",
    "            \n",
    "            pickle.dump(self.vocab, open(self.vocab_path, 'wb'))\n",
    "        else:\n",
    "            self.vocab = pickle.load(open(self.vocab_path, 'rb'))"
   ]
  },
  {
   "cell_type": "markdown",
   "id": "f94dc0f2",
   "metadata": {},
   "source": [
    "### Set dataloader"
   ]
  },
  {
   "cell_type": "code",
   "execution_count": 16,
   "id": "15bf038e",
   "metadata": {},
   "outputs": [],
   "source": [
    "train_ds = TextClassDataset(train_df, tokenizer, CLASSES, VOCAB_PATH, MAX_LEN, MIN_COUNT, stopwords)\n",
    "valid_ds = TextClassDataset(valid_df, tokenizer, CLASSES, VOCAB_PATH, MAX_LEN, MIN_COUNT, stopwords)\n",
    "test_ds = TextClassDataset(test_df, tokenizer, CLASSES, VOCAB_PATH, MAX_LEN, MIN_COUNT, stopwords)\n",
    "\n",
    "train_dl = DataLoader(train_ds, batch_size=BATCH_SIZE, shuffle=True)\n",
    "valid_dl = DataLoader(valid_ds, batch_size=BATCH_SIZE, shuffle=False)\n",
    "test_dl = DataLoader(test_ds, batch_size=BATCH_SIZE, shuffle=False)"
   ]
  },
  {
   "cell_type": "markdown",
   "id": "abd46418",
   "metadata": {},
   "source": [
    "## Explore data after processed"
   ]
  },
  {
   "cell_type": "code",
   "execution_count": 17,
   "id": "4f3eb060",
   "metadata": {},
   "outputs": [
    {
     "name": "stdout",
     "output_type": "stream",
     "text": [
      "text shape: torch.Size([400])\n",
      "text shape: ()\n",
      "number of texts: 40000\n",
      "['negative', 'positive']\n",
      "{'negative': 0, 'positive': 1}\n"
     ]
    }
   ],
   "source": [
    "print('text shape:', train_ds[0][0].shape)\n",
    "print('text shape:', train_ds[0][1].shape)\n",
    "print('number of texts:', len(train_ds))\n",
    "print(train_ds.classes)\n",
    "print(train_ds.class_to_index)"
   ]
  },
  {
   "cell_type": "code",
   "execution_count": 18,
   "id": "ea01c2e4",
   "metadata": {},
   "outputs": [
    {
     "name": "stdout",
     "output_type": "stream",
     "text": [
      "movie dvd player , sat coke chips , expectations . hoping movie contain strong points movie awsome animation , good flowing story , excellent voice cast , funny comedy kick ass soundtrack . , disappointment , found atlantis milo return . read reviews , let . following paragraph directed seen movie , enjoyed primarily points mentioned . scene appears , shock picked atlantis milo return display case local <unk> , expectations . music feels bad imitation movie , voice cast replaced fitting . exception characters , like voice sweet . actual drawings nt bad , animation particular sad sight . storyline pretty weak , like episodes <unk> doo single adventurous story got time . nt misunderstand , good <unk> doo episodes . nt laugh single time , <unk> twice . audience seen movie , especially care similar sequel , fast review movie stand product liked <unk> doo , like movie . , enjoy movie . suspect good kids movie , know . better milo return episode series cartoon channel , breakfast tv . <pad> <pad> <pad> <pad> <pad> <pad> <pad> <pad> <pad> <pad> <pad> <pad> <pad> <pad> <pad> <pad> <pad> <pad> <pad> <pad> <pad> <pad> <pad> <pad> <pad> <pad> <pad> <pad> <pad> <pad> <pad> <pad> <pad> <pad> <pad> <pad> <pad> <pad> <pad> <pad> <pad> <pad> <pad> <pad> <pad> <pad> <pad> <pad> <pad> <pad> <pad> <pad> <pad> <pad> <pad> <pad> <pad> <pad> <pad> <pad> <pad> <pad> <pad> <pad> <pad> <pad> <pad> <pad> <pad> <pad> <pad> <pad> <pad> <pad> <pad> <pad> <pad> <pad> <pad> <pad> <pad> <pad> <pad> <pad> <pad> <pad> <pad> <pad> <pad> <pad> <pad> <pad> <pad> <pad> <pad> <pad> <pad> <pad> <pad> <pad> <pad> <pad> <pad> <pad> <pad> <pad> <pad> <pad> <pad> <pad> <pad> <pad> <pad> <pad> <pad> <pad> <pad> <pad> <pad> <pad> <pad> <pad> <pad> <pad> <pad> <pad> <pad> <pad> <pad> <pad> <pad> <pad> <pad> <pad> <pad> <pad> <pad> <pad> <pad> <pad> <pad> <pad> <pad> <pad> <pad> <pad> <pad> <pad> <pad> <pad> <pad> <pad> <pad> <pad> <pad> <pad> <pad> <pad> <pad> <pad> <pad> <pad> <pad> <pad> <pad> <pad> <pad> <pad> <pad> <pad> <pad> <pad> <pad> <pad> <pad> <pad> <pad> <pad> <pad> <pad> <pad> <pad> <pad> <pad> <pad> <pad> <pad> <pad> <pad> <pad> <pad> <pad> <pad> <pad> <pad> <pad> <pad> <pad> <pad> <pad> <pad> <pad> <pad> <pad> <pad> <pad> <pad> <pad> <pad> <pad> <pad> <pad> <pad> <pad> <pad> <pad> <pad> <pad> <pad> <pad> <pad> <pad> <pad> <pad> <pad> <pad> <pad>\n"
     ]
    }
   ],
   "source": [
    "# convert back the sequence of integers into original text\n",
    "print(' '.join([train_ds.vocab.index2word[i.item()] for i in train_ds[1][0]]))"
   ]
  },
  {
   "cell_type": "code",
   "execution_count": 19,
   "id": "c724f2d7",
   "metadata": {},
   "outputs": [
    {
     "name": "stdout",
     "output_type": "stream",
     "text": [
      "When I put this movie in my DVD player, and sat down with a coke and some chips, I had some expectations. I was hoping that this movie would contain some of the strong-points of the first movie: Awsome animation, good flowing story, excellent voice cast, funny comedy and a kick-ass soundtrack. But, to my disappointment, not any of this is to be found in Atlantis: Milo's Return. Had I read some reviews first, I might not have been so let down. The following paragraph will be directed to those who have seen the first movie, and who enjoyed it primarily for the points mentioned.<br /><br />When the first scene appears, your in for a shock if you just picked Atlantis: Milo's Return from the display-case at your local videoshop (or whatever), and had the expectations I had. The music feels as a bad imitation of the first movie, and the voice cast has been replaced by a not so fitting one. (With the exception of a few characters, like the voice of Sweet). The actual drawings isnt that bad, but the animation in particular is a sad sight. The storyline is also pretty weak, as its more like three episodes of Schooby-Doo than the single adventurous story we got the last time. But dont misunderstand, it's not very good Schooby-Doo episodes. I didnt laugh a single time, although I might have sniggered once or twice.<br /><br />To the audience who haven't seen the first movie, or don't especially care for a similar sequel, here is a fast review of this movie as a stand-alone product: If you liked schooby-doo, you might like this movie. If you didn't, you could still enjoy this movie if you have nothing else to do. And I suspect it might be a good kids movie, but I wouldn't know. It might have been better if Milo's Return had been a three-episode series on a cartoon channel, or on breakfast TV.\n"
     ]
    }
   ],
   "source": [
    "# print the original text\n",
    "print(train_ds.text[1])"
   ]
  },
  {
   "cell_type": "code",
   "execution_count": 20,
   "id": "b437636b",
   "metadata": {},
   "outputs": [
    {
     "name": "stdout",
     "output_type": "stream",
     "text": [
      "Vocab size = 25206\n",
      "\n",
      "Most common words:\n",
      ".: 437232\n",
      ",: 435318\n",
      "movie: 70331\n",
      "film: 63527\n",
      "like: 32272\n",
      "!: 30453\n",
      "': 27010\n",
      "good: 23858\n",
      "?: 23680\n",
      "time: 20108\n"
     ]
    }
   ],
   "source": [
    "vocab = train_ds.vocab\n",
    "freqs = [(count, word) for (word, count) in vocab.word2count.items() if count >= MIN_COUNT]\n",
    "vocab_size = len(freqs) + 2  # for PAD and UNK tokens\n",
    "print(f'Vocab size = {vocab_size}')\n",
    "\n",
    "print('\\nMost common words:')\n",
    "for c, w in sorted(freqs, reverse=True)[:10]:\n",
    "    print(f'{w}: {c}')"
   ]
  },
  {
   "cell_type": "markdown",
   "id": "7c15fc05",
   "metadata": {},
   "source": [
    "## Training & evaluation helper functions"
   ]
  },
  {
   "cell_type": "code",
   "execution_count": 21,
   "id": "e6dfe5b9",
   "metadata": {},
   "outputs": [],
   "source": [
    "def train_one(model, loader, loss_fn, optimizer, metric_fn, device, binaryloss=True, print_step=True):\n",
    "    \"\"\" training one epoch and calculate loss and metrics \"\"\"\n",
    "    # Training model\n",
    "    model.train()\n",
    "    losses = 0.0\n",
    "    metrics = 0.0\n",
    "    steps = len(loader)\n",
    "\n",
    "    for i, (inputs, labels) in enumerate(loader):\n",
    "        # Place to gpu\n",
    "        inputs = inputs.to(device)\n",
    "        labels = labels.to(device)\n",
    "        model.zero_grad()\n",
    "        outputs = model(inputs.t())\n",
    "        # Calculate loss\n",
    "        #if loss_fn == nn.BCELoss:\n",
    "            #labels=labels.to(torch.float32)\n",
    "        #else:\n",
    "            #print('false')\n",
    "        if binaryloss:\n",
    "            loss = loss_fn(outputs, labels.to(torch.float32))      \n",
    "        else: \n",
    "            loss = loss_fn(outputs, labels)\n",
    "        losses += loss\n",
    "        # Backpropagation and update weights\n",
    "        loss.backward()\n",
    "        torch.nn.utils.clip_grad_norm_(model.parameters(), 0.3)\n",
    "        optimizer.step()\n",
    "        # Calculate metrics\n",
    "        metric = metric_fn(outputs, labels, binaryloss)    \n",
    "        metrics += metric\n",
    "        # report\n",
    "        if print_step:\n",
    "            sys.stdout.flush()\n",
    "            sys.stdout.write('\\r Step: [%2d/%2d], loss: %.4f - acc: %.4f' % (i, steps, loss.item(), metric))\n",
    "    \n",
    "    if print_step: sys.stdout.write ('\\r')\n",
    "    return losses.item() / len(loader), metrics / len(loader)"
   ]
  },
  {
   "cell_type": "code",
   "execution_count": 22,
   "id": "c36e5558",
   "metadata": {},
   "outputs": [],
   "source": [
    "def accuracy(outputs, labels, binaryloss=True):\n",
    "    \"\"\" calculate percent of true labels \"\"\"\n",
    "    # predicted labels\n",
    "    if not binaryloss:\n",
    "        _, preds = torch.max(outputs, dim = 1)\n",
    "    else:\n",
    "        preds = torch.where(outputs>0,1,0)\n",
    "    return torch.sum(preds == labels).item() / len(preds)\n",
    "\n",
    "\n",
    "def evaluate(model, loader, loss_fn, metric_fn, device, binaryloss=True):\n",
    "    \"\"\" Evaluate trained weights using calculate loss and metrics \"\"\"\n",
    "    # Evaluate model\n",
    "    model.eval()\n",
    "    losses = 0.0\n",
    "    metrics = 0.0\n",
    "    with torch.no_grad():\n",
    "        for inputs, labels in loader:\n",
    "            inputs = inputs.to(device)\n",
    "            labels = labels.to(device)\n",
    "            outputs = model(inputs.t())\n",
    "            if binaryloss:\n",
    "                loss = loss_fn(outputs, labels.to(torch.float32))\n",
    "            else: loss = loss_fn(outputs, labels)\n",
    "            losses += loss\n",
    "            metrics += metric_fn(outputs, labels, binaryloss)\n",
    "    return losses.item() / len(loader), metrics / len(loader)"
   ]
  },
  {
   "cell_type": "code",
   "execution_count": 23,
   "id": "861e9379-10c9-4605-b769-bce6c8e5e746",
   "metadata": {},
   "outputs": [],
   "source": [
    "def confusion_matrix(predicted, label):\n",
    "    #label format: either 1 or 0 for each item\n",
    "    c_m=np.zeros((2,2))\n",
    "    for idx, pred in enumerate(predicted):\n",
    "        true_or_false = 1 if pred == label[idx] else 0\n",
    "        pos_or_neg = 1 if pred == 1 else 0\n",
    "        c_m[true_or_false][pos_or_neg] +=1\n",
    "    return c_m\n",
    "\n",
    "def predict(model, dataloader, binaryloss=True, show_sample=0):\n",
    "    #pred_all, out_all, label_all = torch.tensor([]).to(device), torch.tensor([]).to(device), torch.tensor([]).to(device)\n",
    "    pred_all, out_all, label_all = [], [], []\n",
    "    model.eval()\n",
    "    with torch.no_grad():\n",
    "        for inputs, labels in dataloader:\n",
    "            inputs = inputs.to(device)\n",
    "            labels = labels.to(device)\n",
    "            outputs = model(inputs.t())\n",
    "            if not binaryloss:\n",
    "                _, preds = torch.max(outputs, dim = 1)\n",
    "            else:\n",
    "                preds = torch.where(outputs>0,1,0)\n",
    "            #pred_all = torch.cat((pred_all, preds))\n",
    "            #out_all = torch.cat((out_all, outputs))\n",
    "            #label_all = torch.cat((label_all, labels))\n",
    "            pred_all.append(preds)\n",
    "            out_all.append(outputs)\n",
    "            label_all.append(labels)\n",
    "    pred_all = torch.cat(pred_all)\n",
    "    out_all = torch.cat(out_all)\n",
    "    label_all = torch.cat(label_all)\n",
    "    if show_sample != 0:\n",
    "        print('samples of predictions, outputs and true labels:')\n",
    "        print('prediction: ', pred_all[0:show_sample])\n",
    "        print('model output: ', out_all[0:show_sample])\n",
    "        print('true label: ', label_all[0:show_sample])\n",
    "    return pred_all, out_all, label_all\n",
    "\n",
    "def performance(model, dataloader, binaryloss=True):\n",
    "    #_, cm = evaluate(model, dataloader, loss_fn, confusion_matrix, device, binaryloss=False) * len(dataloader)\n",
    "    pred_all, out_all, label_all = predict(model, dataloader, binaryloss=binaryloss)\n",
    "    cm = confusion_matrix(pred_all, label_all)\n",
    "    true, false = 1, 0\n",
    "    print('---------------------------------------------------')\n",
    "    print('              Predicted')\n",
    "    print('              +ve    -ve')\n",
    "    print('Actual  +ve  {}  {}'.format(str(round(cm[true][1])).rjust(5), str(round(cm[false][0])).rjust(5)))\n",
    "    print('        -ve  {}  {}'.format(str(round(cm[false][1])).rjust(5), str(round(cm[true][0])).rjust(5)))\n",
    "    accuracy = sum(cm[true]) / (sum(cm[true])+sum(cm[false]))\n",
    "    precision = cm[true][1] / (cm[true][1] + cm[false][1])\n",
    "    recall = cm[true][1] / (cm[true][1] + cm[false][0])\n",
    "    f1 = 2*precision*recall/(precision+recall)      #harmonic mean\n",
    "    print('---------------------------------------------------')\n",
    "    print('precision:{:.4f}, recall:{:.4f}'.format(precision, recall))\n",
    "    print('F1-score :{:.4f}'.format(f1))\n",
    "    print('accuracy :{:.4f}'.format(accuracy))\n",
    "    print('---------------------------------------------------')\n",
    "    return cm, accuracy, precision, recall"
   ]
  },
  {
   "cell_type": "code",
   "execution_count": 24,
   "id": "bcfdd181-2c66-4247-a348-3049e45790cf",
   "metadata": {},
   "outputs": [],
   "source": [
    "import matplotlib.pyplot as plt\n",
    "def plot_history(history):\n",
    "    num_e = len(history['loss'])\n",
    "    plt.plot(history['loss'], label='loss')\n",
    "    plt.plot(history['val_loss'], label='val_loss')\n",
    "    plt.xticks(range(0, num_e+1))\n",
    "    plt.xlabel('Epochs')\n",
    "    plt.ylabel('Loss')\n",
    "    plt.title('Training vs Validation')\n",
    "    plt.legend()\n",
    "    plt.show()\n",
    "    plt.plot(history['acc'], label='acc')\n",
    "    plt.plot(history['val_acc'], label='val_acc')\n",
    "    plt.xticks(range(0, num_e+1))\n",
    "    plt.xlabel('Epochs')\n",
    "    plt.ylabel('Accuracy')\n",
    "    plt.title('Training vs Validation')\n",
    "    plt.legend()\n",
    "    plt.show()"
   ]
  },
  {
   "cell_type": "code",
   "execution_count": 25,
   "id": "726f5c9b-4074-4e63-ad6f-812d9ac0aeb6",
   "metadata": {},
   "outputs": [],
   "source": [
    "def para_num(model):       #no of learnable parameters\n",
    "    return sum(p.numel() for p in model.parameters() if p.requires_grad)"
   ]
  },
  {
   "cell_type": "code",
   "execution_count": 26,
   "id": "9333a6f0",
   "metadata": {},
   "outputs": [],
   "source": [
    "def train(model, train_dl, valid_dl, loss_fn, optimizer, num_epochs, metric_fn, device, checkpoint_path, scheduler=None, load_model=False, prev_best_acc=None, binaryloss=True, early_stop=False, print_step=True):\n",
    "    \"\"\" fiting model to dataloaders, saving best weights and showing results \"\"\"\n",
    "    # to continue training from saved weights\n",
    "    start = time.time()\n",
    "    if load_model:\n",
    "        load_checkpoint(torch.load(checkpoint_path), model)\n",
    "    best_acc = 0  if prev_best_acc is None else prev_best_acc\n",
    "    losses, accs, val_losses, val_accs = [None], [None], [None], [None]\n",
    "\n",
    "    for epoch in range(num_epochs):\n",
    "        loss, acc = train_one(model, train_dl, loss_fn, optimizer, metric_fn, device, binaryloss, print_step)\n",
    "        val_loss, val_acc = evaluate(model, valid_dl, loss_fn, metric_fn, device, binaryloss)\n",
    "        losses.append(loss)\n",
    "        accs.append(acc)\n",
    "        val_losses.append(val_loss)\n",
    "        val_accs.append(val_acc)\n",
    "        # learning rate scheduler------\n",
    "        if scheduler is not None:\n",
    "            scheduler.step()\n",
    "        print('Epoch [{}/{}], loss: {:.4f} - acc: {:.4f} - val_loss: {:.4f} - val_acc: {:.4f}'.format (epoch + 1, num_epochs, loss, acc, val_loss, val_acc))\n",
    "        # save weights if improved-----\n",
    "        if val_acc > best_acc:\n",
    "            best_acc = val_acc\n",
    "            best_wts = model.state_dict().copy()\n",
    "            torch.save(best_wts, checkpoint_path)\n",
    "            print('Checkpoint Saved! Epoch {} is better.***************************'.format(epoch+1))\n",
    "        else:\n",
    "            if early_stop:\n",
    "                print('early stop at epoch {}'.format(epoch+1),'*************************************')\n",
    "                break\n",
    "\n",
    "    model.load_state_dict(best_wts)\n",
    "    history = dict(loss = losses, val_loss = val_losses, acc = accs, val_acc = val_accs)\n",
    "    if num_epochs > 1:\n",
    "        plot_history(history)\n",
    "    period = time.time() - start\n",
    "    print('Training done in {:.0f}m {:.0f}s'.format (period // 60, period % 60))\n",
    "    return history"
   ]
  },
  {
   "cell_type": "markdown",
   "id": "f03261ac-e47a-463a-b2b0-53c40fc3eafb",
   "metadata": {},
   "source": [
    "## Let's try running a model"
   ]
  },
  {
   "cell_type": "code",
   "execution_count": null,
   "id": "58687c77-a9e2-4747-86f2-071c71375c8d",
   "metadata": {},
   "outputs": [
    {
     "name": "stdout",
     "output_type": "stream",
     "text": [
      "No of trainable parameters:  17364481\n",
      "Epoch [1/5], loss: 0.6385 - acc: 0.7710 - val_loss: 0.3985 - val_acc: 0.8554\n",
      "Checkpoint Saved! Epoch 1 is better.***************************\n",
      " Step: [766/1600], loss: 0.1503 - acc: 0.9600"
     ]
    }
   ],
   "source": [
    "# LSTM\n",
    "\n",
    "NUM_EPOCHS = 5\n",
    "\n",
    "\n",
    "EMBED_SIZE = 256\n",
    "HIDDEN_SIZE = 1024\n",
    "n_layers = 1\n",
    "bidirectional = True\n",
    "dropout = 0.5\n",
    "LR = 1e-3\n",
    "\n",
    "CHECKPOINT_PATH = 'para/LSTM.pth'\n",
    "\n",
    "model = LSTM(vocab_size, EMBED_SIZE, HIDDEN_SIZE, 1, n_layers, bidirectional, MAX_LEN, dropout).to(device)\n",
    "loss_fn = nn.BCEWithLogitsLoss().to(device)\n",
    "optimizer = optim.Adam(model.parameters(), lr=LR, betas=(0.7, 0.99))\n",
    "scheduler = optim.lr_scheduler.StepLR(optimizer, step_size=1, gamma=0.9)\n",
    "print('No of trainable parameters: ', para_num(model))\n",
    "\n",
    "randomize()\n",
    "history = train(model, train_dl, valid_dl, loss_fn, optimizer, NUM_EPOCHS, accuracy, device, CHECKPOINT_PATH, scheduler, binaryloss=True, early_stop=True)\n",
    "\n",
    "confusion_m, acc, precision, recall = performance(model, valid_dl, binaryloss=True)\n",
    "pred_all, out_all, label_all = predict(model, valid_dl, binaryloss=True, show_sample=20)"
   ]
  },
  {
   "cell_type": "markdown",
   "id": "695a05da-3832-4d41-be18-dcec9dd10c7d",
   "metadata": {},
   "source": [
    "## Tuning Batch Size and Stopwords"
   ]
  },
  {
   "cell_type": "code",
   "execution_count": null,
   "id": "4b37d872-29b5-4ae1-81e1-9307535a08b4",
   "metadata": {},
   "outputs": [],
   "source": [
    "stopwords_default = NLP.Defaults.stop_words\n",
    "stopwords_add = NLP.Defaults.stop_words.union({'movie','film'})\n",
    "stopwords_cut = NLP.Defaults.stop_words.difference({'nevertheless', 'however', 'although', 'up','down','no','not','nothing','n‘t',\n",
    " 'n’t',\"n't\",'never','without','top','bottom','well','first','least'})\n",
    "\n",
    "\n",
    "stop_list = [stopwords_default, stopwords_add, stopwords_cut, []]"
   ]
  },
  {
   "cell_type": "code",
   "execution_count": null,
   "id": "cc44b92f-b729-4453-8c6e-47776dbed846",
   "metadata": {},
   "outputs": [],
   "source": [
    "# Tune batch size and stopwords\n",
    "\n",
    "NUM_EPOCHS = 2\n",
    "\n",
    "batch_list = [8, 16, 25]\n",
    "\n",
    "best_acc=0\n",
    "all_acc = {}\n",
    "for idx, stopwords in enumerate(stop_list):\n",
    "    all_acc[idx]={}\n",
    "    #set dataset\n",
    "    train_ds = TextClassDataset(train_df, tokenizer, CLASSES, VOCAB_PATH, MAX_LEN, MIN_COUNT, stopwords)\n",
    "    valid_ds = TextClassDataset(valid_df, tokenizer, CLASSES, VOCAB_PATH, MAX_LEN, MIN_COUNT, stopwords)\n",
    "    test_ds = TextClassDataset(test_df, tokenizer, CLASSES, VOCAB_PATH, MAX_LEN, MIN_COUNT, stopwords)\n",
    "    \n",
    "    for BATCH_SIZE in batch_list:\n",
    "        #loader, vocab size \n",
    "        train_dl = DataLoader(train_ds, batch_size=BATCH_SIZE, shuffle=True)\n",
    "        valid_dl = DataLoader(valid_ds, batch_size=BATCH_SIZE, shuffle=False)\n",
    "        test_dl = DataLoader(test_ds, batch_size=BATCH_SIZE, shuffle=False)\n",
    "        vocab = train_ds.vocab\n",
    "        freqs = [(count, word) for (word, count) in vocab.word2count.items() if count >= MIN_COUNT]\n",
    "        vocab_size = len(freqs) + 2  \n",
    "        \n",
    "        name_tuning = 'stopwords-batch'              #_____________change the experiment name to suit needs\n",
    "        \n",
    "        CHECKPOINT_PATH = 'para/'+name_tuning+'_'+str(idx)+'_'+str(BATCH_SIZE)+'.pth'                  #_____________change the variable name to suit needs\n",
    "        print(CHECKPOINT_PATH,'-----------------------------------------------------------------')\n",
    "        model = LSTM(vocab_size, EMBED_SIZE, HIDDEN_SIZE, 1, n_layers, bidirectional, MAX_LEN, dropout).to(device)\n",
    "        loss_fn = nn.BCEWithLogitsLoss().to(device)\n",
    "        optimizer = optim.Adam(model.parameters(), lr=LR, betas=(0.7, 0.99))\n",
    "        scheduler = optim.lr_scheduler.StepLR(optimizer, step_size=1, gamma=0.9)\n",
    "        print('No of trainable parameters: ', para_num(model))\n",
    "        randomize()\n",
    "        history = train(model, train_dl, valid_dl, loss_fn, optimizer, NUM_EPOCHS, accuracy, device, CHECKPOINT_PATH, scheduler, binaryloss=True, early_stop=True)\n",
    "        confusion_m, acc, precision, recall = performance(model, valid_dl, binaryloss=True)\n",
    "        if acc > best_acc:\n",
    "            best_acc = acc\n",
    "            best_hyper1 = idx                                                                            #_____________change the variable name to suit needs\n",
    "            best_hyper2 = BATCH_SIZE\n",
    "        all_acc[idx][BATCH_SIZE] = acc\n",
    "\n",
    "print('--------<<<-------best accuracy: {:.4f}, best hyperparameters:{}, {} -------->>>--------'.format(best_acc, best_hyper1, best_hyper2))"
   ]
  },
  {
   "cell_type": "code",
   "execution_count": null,
   "id": "498fe1c7-b403-43b5-82ef-2c308c319449",
   "metadata": {},
   "outputs": [],
   "source": [
    "print('Accuracy  ',end='')\n",
    "print('default  add   cut  empty',end='')\n",
    "for k in batch_list:\n",
    "  print('')\n",
    "  print('batch size='+str(k)+'      ', end='')\n",
    "  for idx in [0,1,2,3]:\n",
    "    print(\"{:.2f}\".format(accuracy[k][idx]*100)+'% ', end='')"
   ]
  },
  {
   "cell_type": "markdown",
   "id": "e4a2138d-b65b-4b68-bd95-77146b3f4c16",
   "metadata": {},
   "source": [
    "## Dataset Config\n",
    "\n",
    "Let's confirm the dataset after we find the best batch size (16) and stopwords (default)."
   ]
  },
  {
   "cell_type": "code",
   "execution_count": null,
   "id": "bbb135f9-3b87-4787-910f-778ef5e65448",
   "metadata": {},
   "outputs": [],
   "source": [
    "# set dataset, loader and vocab size with best hyperparameters\n",
    "stopwords = stop_list[best_hyper1]\n",
    "BATCH_SIZE = best_hyper2\n",
    "\n",
    "train_ds = TextClassDataset(train_df, tokenizer, CLASSES, VOCAB_PATH, MAX_LEN, MIN_COUNT, stopwords)\n",
    "valid_ds = TextClassDataset(valid_df, tokenizer, CLASSES, VOCAB_PATH, MAX_LEN, MIN_COUNT, stopwords)\n",
    "test_ds = TextClassDataset(test_df, tokenizer, CLASSES, VOCAB_PATH, MAX_LEN, MIN_COUNT, stopwords)\n",
    "train_dl = DataLoader(train_ds, batch_size=BATCH_SIZE, shuffle=True)\n",
    "valid_dl = DataLoader(valid_ds, batch_size=BATCH_SIZE, shuffle=False)\n",
    "test_dl = DataLoader(test_ds, batch_size=BATCH_SIZE, shuffle=False)\n",
    "vocab = train_ds.vocab\n",
    "freqs = [(count, word) for (word, count) in vocab.word2count.items() if count >= MIN_COUNT]\n",
    "vocab_size = len(freqs) + 2  "
   ]
  },
  {
   "cell_type": "markdown",
   "id": "6c4b5f13-d5ce-43f2-8910-86f3b55d9289",
   "metadata": {},
   "source": [
    "## Tuning - Helper functions"
   ]
  },
  {
   "cell_type": "code",
   "execution_count": null,
   "id": "062f3653-71be-4f5b-86e1-478a85e5279c",
   "metadata": {},
   "outputs": [],
   "source": [
    "def tune_one(model, best_acc, best_hyper1, best_hyper2):\n",
    "        CHECKPOINT_PATH = 'para/'+name_tuning+'_'+str(i)+'_'+str(j)+'.pth'\n",
    "        print(CHECKPOINT_PATH,'-----------------------------------------------------------------')\n",
    "        loss_fn = nn.BCEWithLogitsLoss().to(device)   #####  Diff from attention model\n",
    "        optimizer = optim.Adam(model.parameters(), lr=LR, betas=(0.7, 0.99))\n",
    "        scheduler = optim.lr_scheduler.StepLR(optimizer, step_size=1, gamma=0.9)\n",
    "        print('No of trainable parameters: ', para_num(model))\n",
    "        randomize()\n",
    "        history = train(model, train_dl, valid_dl, loss_fn, optimizer, NUM_EPOCHS, accuracy, device, CHECKPOINT_PATH, scheduler, binaryloss=True, early_stop=True)\n",
    "        confusion_m, acc, precision, recall = performance(model, valid_dl, binaryloss=True)\n",
    "        if acc > best_acc:\n",
    "            best_acc = acc\n",
    "            best_hyper1 = i\n",
    "            best_hyper2 = j\n",
    "        return best_acc, best_hyper1, best_hyper2, acc"
   ]
  },
  {
   "cell_type": "markdown",
   "id": "91697b9e-711f-44dc-8019-995866eb3a64",
   "metadata": {},
   "source": [
    "## Tuning - Common Config"
   ]
  },
  {
   "cell_type": "code",
   "execution_count": null,
   "id": "789cb882-a69a-4792-89da-1c443d5f6dcf",
   "metadata": {},
   "outputs": [],
   "source": [
    "# set common variables/config for tuning\n",
    "\n",
    "model_trial={}\n",
    "NUM_EPOCHS = 2"
   ]
  },
  {
   "cell_type": "markdown",
   "id": "8eab5fb7-64e5-4527-8963-dad42525cc9b",
   "metadata": {},
   "source": [
    "## Tuning LSTM "
   ]
  },
  {
   "cell_type": "code",
   "execution_count": null,
   "id": "1e0493d1-fb19-4e45-ba62-21303b5eb415",
   "metadata": {
    "tags": []
   },
   "outputs": [],
   "source": [
    "# LSTM tuning 1\n",
    "\n",
    "name_tuning = 'l-dropout-lr'\n",
    "\n",
    "EMBED_SIZE = 256\n",
    "HIDDEN_SIZE = 1024\n",
    "n_layers = 1\n",
    "bidirectional = True\n",
    "\n",
    "list1 = [0.25, 0.5, 0.6]                  #change search space to suit needs----------------------<<<\n",
    "list2 = [1e-3, 3e-4, 1e-4]\n",
    "#-----------------------------------------------------\n",
    "best_acc=0       #initialize best validation accuracy\n",
    "best_hyper1, best_hyper2 = None, None\n",
    "model_trial[name_tuning]={}\n",
    "acc_trial={}\n",
    "\n",
    "for i in list1:\n",
    "    model_trial[name_tuning][i] = {}\n",
    "    acc_trial[i] = {}\n",
    "    for j in list2:\n",
    "        dropout, LR = i, j                                                                        #change variable names----------------------<<<\n",
    "        model = LSTM(vocab_size, EMBED_SIZE, HIDDEN_SIZE, 1, n_layers, bidirectional, MAX_LEN, dropout).to(device)            #change model -----------<<<\n",
    "        best_acc, best_hyper1, best_hyper2, acc_trial[i][j] = tune_one(model, best_acc, best_hyper1, best_hyper2)\n",
    "        model_trial[name_tuning][i][j] = model\n",
    "\n",
    "print('--------<<<-------best validation accuracy: {:.4f}, best hyperparameters:{}, {} -------->>>--------'.format(best_acc, best_hyper1, best_hyper2))"
   ]
  },
  {
   "cell_type": "code",
   "execution_count": null,
   "id": "2329498e-1184-463e-b7c7-84c126114f07",
   "metadata": {},
   "outputs": [],
   "source": [
    "print('Accuracy',end='')\n",
    "for j in list2:\n",
    "    print('  lr={}'.format(j),end='')\n",
    "    \n",
    "for i in list1:\n",
    "    print('')\n",
    "    print('dropout='+str(i)+'      ', end='')\n",
    "    for j in list2:\n",
    "        print(\"{:.2f}\".format(acc_trial[i][j]*100)+'% ', end='')"
   ]
  },
  {
   "cell_type": "code",
   "execution_count": null,
   "id": "d12a1984-4f70-442d-9fa2-f09b2f33976f",
   "metadata": {},
   "outputs": [],
   "source": [
    "# LSTM tuning 2\n",
    "\n",
    "name_tuning = 'l-embed-hidden'\n",
    "\n",
    "n_layers = 1\n",
    "bidirectional = True\n",
    "dropout = best_hyper1\n",
    "lr = best_hyper2\n",
    "\n",
    "list1 = [128, 256, 512]                  #change search space to suit needs----------------------<<<\n",
    "list2 = [512, 1024, 2048]\n",
    "#-----------------------------------------------------\n",
    "best_acc=0       #initialize best validation accuracy\n",
    "best_hyper1, best_hyper2 = None, None\n",
    "model_trial[name_tuning]={}\n",
    "acc_trial={}\n",
    "\n",
    "for i in list1:\n",
    "    model_trial[name_tuning][i] = {}\n",
    "    acc_trial[i] = {}\n",
    "    for j in list2:\n",
    "        EMBED_SIZE, HIDDEN_SIZE = i, j                                                                        #change variable names----------------------<<<\n",
    "        model = LSTM(vocab_size, EMBED_SIZE, HIDDEN_SIZE, 1, n_layers, bidirectional, MAX_LEN, dropout).to(device)            #change model -----------<<<\n",
    "        best_acc, best_hyper1, best_hyper2, acc_trial[i][j] = tune_one(model, best_acc, best_hyper1, best_hyper2)\n",
    "        model_trial[name_tuning][i][j] = model\n",
    "\n",
    "print('--------<<<-------best validation accuracy: {:.4f}, best hyperparameters:{}, {} -------->>>--------'.format(best_acc, best_hyper1, best_hyper2))"
   ]
  },
  {
   "cell_type": "code",
   "execution_count": null,
   "id": "a02135e0-c089-452d-a46c-6c3ac09bada4",
   "metadata": {},
   "outputs": [],
   "source": [
    "print('Accuracy',end='')\n",
    "for j in list2:\n",
    "    print('  hidden={}'.format(j),end='')\n",
    "    \n",
    "for i in list1:\n",
    "    print('')\n",
    "    print('embed='+str(i)+'      ', end='')\n",
    "    for j in list2:\n",
    "        print(\"{:.2f}\".format(acc_trial[i][j]*100)+'% ', end='')"
   ]
  },
  {
   "cell_type": "markdown",
   "id": "113e9391-0b5f-49be-bef6-fab5c82faa12",
   "metadata": {},
   "source": [
    "## Tuning GRU"
   ]
  },
  {
   "cell_type": "code",
   "execution_count": null,
   "id": "4725046e-e97b-45df-8ea7-f47632be236f",
   "metadata": {},
   "outputs": [],
   "source": [
    "# GRU tuning 1\n",
    "\n",
    "name_tuning = 'g-dropout-lr'\n",
    "\n",
    "EMBED_SIZE = 256\n",
    "HIDDEN_SIZE = 1024\n",
    "n_layers = 1\n",
    "bidirectional = True\n",
    "\n",
    "list1 = [0.25, 0.5, 0.6]                  #change search space to suit needs----------------------<<<\n",
    "list2 = [1e-3, 3e-4, 1e-4]\n",
    "#-----------------------------------------------------\n",
    "best_acc=0       #initialize best validation accuracy\n",
    "best_hyper1, best_hyper2 = None, None\n",
    "model_trial[name_tuning]={}\n",
    "acc_trial={}\n",
    "\n",
    "for i in list1:\n",
    "    model_trial[name_tuning][i] = {}\n",
    "    acc_trial[i] = {}\n",
    "    for j in list2:\n",
    "        dropout, LR = i, j                                                                        #change variable names----------------------<<<\n",
    "        model = GRU(vocab_size, EMBED_SIZE, HIDDEN_SIZE, 1, n_layers, bidirectional, MAX_LEN, dropout).to(device)            #change model -----------<<<\n",
    "        best_acc, best_hyper1, best_hyper2, acc_trial[i][j] = tune_one(model, best_acc, best_hyper1, best_hyper2)\n",
    "        model_trial[name_tuning][i][j] = model\n",
    "\n",
    "print('--------<<<-------best validation accuracy: {:.4f}, best hyperparameters:{}, {} -------->>>--------'.format(best_acc, best_hyper1, best_hyper2))"
   ]
  },
  {
   "cell_type": "code",
   "execution_count": null,
   "id": "3f6197ff-4aa7-4e78-b7b1-7e584cfde938",
   "metadata": {},
   "outputs": [],
   "source": [
    "print('Accuracy',end='')\n",
    "for j in list2:\n",
    "    print('  lr={}'.format(j),end='')\n",
    "    \n",
    "for i in list1:\n",
    "    print('')\n",
    "    print('dropout='+str(i)+'      ', end='')\n",
    "    for j in list2:\n",
    "        print(\"{:.2f}\".format(acc_trial[i][j]*100)+'% ', end='')"
   ]
  },
  {
   "cell_type": "code",
   "execution_count": null,
   "id": "e5b98725-0633-4313-aa1f-5fea9ead3b0c",
   "metadata": {},
   "outputs": [],
   "source": [
    "# GRU tuning 2\n",
    "\n",
    "name_tuning = 'g-embed-hidden'\n",
    "\n",
    "n_layers = 1\n",
    "bidirectional = True\n",
    "dropout = best_hyper1\n",
    "lr = best_hyper2\n",
    "\n",
    "list1 = [128, 256, 512]                  #change search space to suit needs----------------------<<<\n",
    "list2 = [512, 1024, 2048]\n",
    "#-----------------------------------------------------\n",
    "best_acc=0       #initialize best validation accuracy\n",
    "best_hyper1, best_hyper2 = None, None\n",
    "model_trial[name_tuning]={}\n",
    "acc_trial={}\n",
    "\n",
    "for i in list1:\n",
    "    model_trial[name_tuning][i] = {}\n",
    "    acc_trial[i] = {}\n",
    "    for j in list2:\n",
    "        EMBED_SIZE, HIDDEN_SIZE = i, j                                                                        #change variable names----------------------<<<\n",
    "        model = GRU(vocab_size, EMBED_SIZE, HIDDEN_SIZE, 1, n_layers, bidirectional, MAX_LEN, dropout).to(device)             #change model -----------<<<\n",
    "        best_acc, best_hyper1, best_hyper2, acc_trial[i][j] = tune_one(model, best_acc, best_hyper1, best_hyper2)\n",
    "        model_trial[name_tuning][i][j] = model\n",
    "\n",
    "print('--------<<<-------best validation accuracy: {:.4f}, best hyperparameters:{}, {} -------->>>--------'.format(best_acc, best_hyper1, best_hyper2))"
   ]
  },
  {
   "cell_type": "code",
   "execution_count": null,
   "id": "7ec44f55-27b7-41e6-aafc-7de5e29b9d4b",
   "metadata": {},
   "outputs": [],
   "source": [
    "print('Accuracy',end='')\n",
    "for j in list2:\n",
    "    print('  hidden={}'.format(j),end='')\n",
    "    \n",
    "for i in list1:\n",
    "    print('')\n",
    "    print('embed='+str(i)+'      ', end='')\n",
    "    for j in list2:\n",
    "        print(\"{:.2f}\".format(acc_trial[i][j]*100)+'% ', end='')"
   ]
  },
  {
   "cell_type": "markdown",
   "id": "9fd19f53-8446-4c64-860a-ca9b2f4e5f6c",
   "metadata": {},
   "source": [
    "## Tuning Attention LSTM"
   ]
  },
  {
   "cell_type": "code",
   "execution_count": null,
   "id": "f172de71-c93d-411a-be47-716f97da78bf",
   "metadata": {},
   "outputs": [],
   "source": [
    "# Attention LSTM tuning 1\n",
    "\n",
    "name_tuning = 'a-dropout-lr'\n",
    "\n",
    "EMBED_SIZE = 256\n",
    "HIDDEN_SIZE = 1024\n",
    "n_layers = 1\n",
    "bidirectional = True\n",
    "\n",
    "list1 = [0.25, 0.5, 0.6]                  #change search space to suit needs----------------------<<<\n",
    "list2 = [1e-3, 3e-4, 1e-4]\n",
    "#-----------------------------------------------------\n",
    "best_acc=0       #initialize best validation accuracy\n",
    "best_hyper1, best_hyper2 = None, None\n",
    "model_trial[name_tuning]={}\n",
    "acc_trial={}\n",
    "\n",
    "for i in list1:\n",
    "    model_trial[name_tuning][i] = {}\n",
    "    acc_trial[i] = {}\n",
    "    for j in list2:\n",
    "        dropout, LR = i, j                                                                        #change variable names----------------------<<<\n",
    "        model = AttentionLSTM(vocab_size, EMBED_SIZE, HIDDEN_SIZE, 1, n_layers, bidirectional=True, dropout=dropout).to(device)          #change model -----------<<<\n",
    "        best_acc, best_hyper1, best_hyper2, acc_trial[i][j] = tune_one(model, best_acc, best_hyper1, best_hyper2)\n",
    "        model_trial[name_tuning][i][j] = model\n",
    "\n",
    "print('--------<<<-------best validation accuracy: {:.4f}, best hyperparameters:{}, {} -------->>>--------'.format(best_acc, best_hyper1, best_hyper2))"
   ]
  },
  {
   "cell_type": "code",
   "execution_count": null,
   "id": "d2f7291d-63df-4c39-88ab-b8352e134e6c",
   "metadata": {},
   "outputs": [],
   "source": [
    "print('Accuracy',end='')\n",
    "for j in list2:\n",
    "    print('  lr={}'.format(j),end='')\n",
    "    \n",
    "for i in list1:\n",
    "    print('')\n",
    "    print('dropout='+str(i)+'      ', end='')\n",
    "    for j in list2:\n",
    "        print(\"{:.2f}\".format(acc_trial[i][j]*100)+'% ', end='')"
   ]
  },
  {
   "cell_type": "code",
   "execution_count": null,
   "id": "7cddcee1-1530-4993-9225-1bd41009d8a9",
   "metadata": {},
   "outputs": [],
   "source": [
    "# Attention LSTM tuning 2\n",
    "\n",
    "name_tuning = 'a-embed-hidden'\n",
    "\n",
    "n_layers = 1\n",
    "bidirectional = True\n",
    "dropout = best_hyper1\n",
    "lr = best_hyper2\n",
    "\n",
    "list1 = [128, 256, 512]                  #change search space to suit needs----------------------<<<\n",
    "list2 = [512, 1024, 2048]\n",
    "#-----------------------------------------------------\n",
    "best_acc=0       #initialize best validation accuracy\n",
    "best_hyper1, best_hyper2 = None, None\n",
    "model_trial[name_tuning]={}\n",
    "acc_trial={}\n",
    "\n",
    "for i in list1:\n",
    "    model_trial[name_tuning][i] = {}\n",
    "    acc_trial[i] = {}\n",
    "    for j in list2:\n",
    "        EMBED_SIZE, HIDDEN_SIZE = i, j                                                                        #change variable names----------------------<<<\n",
    "        model = AttentionLSTM(vocab_size, EMBED_SIZE, HIDDEN_SIZE, 1, n_layers, bidirectional=True, dropout=dropout).to(device)            #change model -----------<<<\n",
    "        best_acc, best_hyper1, best_hyper2, acc_trial[i][j] = tune_one(model, best_acc, best_hyper1, best_hyper2)\n",
    "        model_trial[name_tuning][i][j] = model\n",
    "\n",
    "print('--------<<<-------best validation accuracy: {:.4f}, best hyperparameters:{}, {} -------->>>--------'.format(best_acc, best_hyper1, best_hyper2))"
   ]
  },
  {
   "cell_type": "code",
   "execution_count": null,
   "id": "646fcd10-9156-497f-9c48-6be934616376",
   "metadata": {},
   "outputs": [],
   "source": [
    "print('Accuracy',end='')\n",
    "for j in list2:\n",
    "    print('  hidden={}'.format(j),end='')\n",
    "    \n",
    "for i in list1:\n",
    "    print('')\n",
    "    print('embed='+str(i)+'      ', end='')\n",
    "    for j in list2:\n",
    "        print(\"{:.2f}\".format(acc_trial[i][j]*100)+'% ', end='')"
   ]
  },
  {
   "cell_type": "markdown",
   "id": "4d0470af-95f3-4d8e-af7b-2fdb328f4b5d",
   "metadata": {},
   "source": [
    "## Tuning Transformer"
   ]
  },
  {
   "cell_type": "code",
   "execution_count": null,
   "id": "c3d544e7-4cf2-4d21-9244-02a976259cfa",
   "metadata": {},
   "outputs": [],
   "source": [
    "# Transformer tuning 1\n",
    "\n",
    "name_tuning = 't-dropout-lr'\n",
    "\n",
    "EMBED_SIZE = 256   # embed_dim must be divisible by num_heads\n",
    "num_heads = 4      # embed_dim must be divisible by num_heads\n",
    "hidden_dim = 256\n",
    "n_layers = 2\n",
    "\n",
    "list1 = [0.25, 0.5, 0.6]                  #change search space to suit needs----------------------<<<\n",
    "list2 = [1e-3, 3e-4, 1e-4]\n",
    "#-----------------------------------------------------\n",
    "best_acc=0       #initialize best validation accuracy\n",
    "best_hyper1, best_hyper2 = None, None\n",
    "model_trial[name_tuning]={}\n",
    "acc_trial={}\n",
    "\n",
    "for i in list1:\n",
    "    model_trial[name_tuning][i] = {}\n",
    "    acc_trial[i] = {}\n",
    "    for j in list2:\n",
    "        dropout, LR = i, j                                                                        #change variable names----------------------<<<\n",
    "        model = Transformer(vocab_size, EMBED_SIZE, num_heads, hidden_dim, n_layers, MAX_LEN, dropout).to(device)          #change model -----------<<<\n",
    "        best_acc, best_hyper1, best_hyper2, acc_trial[i][j] = tune_one(model, best_acc, best_hyper1, best_hyper2)\n",
    "        model_trial[name_tuning][i][j] = model\n",
    "\n",
    "print('--------<<<-------best validation accuracy: {:.4f}, best hyperparameters:{}, {} -------->>>--------'.format(best_acc, best_hyper1, best_hyper2))"
   ]
  },
  {
   "cell_type": "code",
   "execution_count": null,
   "id": "4dd298ee-6626-446f-b11d-0f980fd834c6",
   "metadata": {},
   "outputs": [],
   "source": [
    "print('Accuracy',end='')\n",
    "for j in list2:\n",
    "    print('  lr={}'.format(j),end='')\n",
    "    \n",
    "for i in list1:\n",
    "    print('')\n",
    "    print('dropout='+str(i)+'      ', end='')\n",
    "    for j in list2:\n",
    "        print(\"{:.2f}\".format(acc_trial[i][j]*100)+'% ', end='')"
   ]
  },
  {
   "cell_type": "code",
   "execution_count": null,
   "id": "0169c758-f542-45e6-819d-81ff272a9282",
   "metadata": {},
   "outputs": [],
   "source": [
    "# Transformer tuning 2\n",
    "\n",
    "name_tuning = 't-embed-hidden'\n",
    "\n",
    "n_layers = 2\n",
    "num_heads = 4 \n",
    "dropout = best_hyper1\n",
    "lr = best_hyper2\n",
    "\n",
    "list1 = [128, 256, 512]                  #change search space to suit needs----------------------<<<\n",
    "list2 = [512, 1024, 2048]\n",
    "#-----------------------------------------------------\n",
    "best_acc=0       #initialize best validation accuracy\n",
    "best_hyper1, best_hyper2 = None, None\n",
    "model_trial[name_tuning]={}\n",
    "acc_trial={}\n",
    "\n",
    "for i in list1:\n",
    "    model_trial[name_tuning][i] = {}\n",
    "    acc_trial[i] = {}\n",
    "    for j in list2:\n",
    "        EMBED_SIZE, hidden_dim = i, j                                                                        #change variable names----------------------<<<\n",
    "        model = Transformer(vocab_size, EMBED_SIZE, num_heads, hidden_dim, n_layers, MAX_LEN, dropout).to(device)            #change model -----------<<<\n",
    "        best_acc, best_hyper1, best_hyper2, acc_trial[i][j] = tune_one(model, best_acc, best_hyper1, best_hyper2)\n",
    "        model_trial[name_tuning][i][j] = model\n",
    "\n",
    "print('--------<<<-------best validation accuracy: {:.4f}, best hyperparameters:{}, {} -------->>>--------'.format(best_acc, best_hyper1, best_hyper2))"
   ]
  },
  {
   "cell_type": "code",
   "execution_count": null,
   "id": "cf96b4a4-ffc1-4dd5-a041-144b6b55b39e",
   "metadata": {},
   "outputs": [],
   "source": [
    "print('Accuracy',end='')\n",
    "for j in list2:\n",
    "    print('  hidden={}'.format(j),end='')\n",
    "    \n",
    "for i in list1:\n",
    "    print('')\n",
    "    print('embed='+str(i)+'      ', end='')\n",
    "    for j in list2:\n",
    "        print(\"{:.2f}\".format(acc_trial[i][j]*100)+'% ', end='')"
   ]
  },
  {
   "cell_type": "markdown",
   "id": "71d083c9-5c05-4694-a15a-3ee158785a6e",
   "metadata": {},
   "source": [
    "## Testing model modifications"
   ]
  },
  {
   "cell_type": "code",
   "execution_count": 26,
   "id": "8dce3f7b-7f6c-4584-9c44-6f9c3c352558",
   "metadata": {},
   "outputs": [
    {
     "name": "stdout",
     "output_type": "stream",
     "text": [
      "cuda\n"
     ]
    }
   ],
   "source": [
    "device = torch.device('cuda' if torch.cuda.is_available() else 'cpu')\n",
    "print(device)"
   ]
  },
  {
   "cell_type": "code",
   "execution_count": 27,
   "id": "7f92cebc-c201-48c9-841f-8ea721dc05fd",
   "metadata": {},
   "outputs": [
    {
     "name": "stdout",
     "output_type": "stream",
     "text": [
      "para/transformer_0.05_0.001.pth -----------------------------------------------------------------\n",
      "No of trainable parameters:  23804631\n",
      "Checkpoint Saved! Epoch 1 is better.***************************\n",
      "Epoch [1/2], loss: 126.2566 - acc: 0.5306 - val_loss: 31.1706 - val_acc: 0.6194\n",
      "early stop at epoch 2oss: 4.3519 - acc: 0.640000\n"
     ]
    },
    {
     "data": {
      "image/png": "[encoded data removed]",
      "text/plain": [
       "<Figure size 432x288 with 1 Axes>"
      ]
     },
     "metadata": {
      "needs_background": "light"
     },
     "output_type": "display_data"
    },
    {
     "name": "stdout",
     "output_type": "stream",
     "text": [
      "Training done in 3m 47s\n",
      "---------------------------------------------------\n",
      "              Predicted\n",
      "              +ve    -ve\n",
      "Actual  +ve   2511      3\n",
      "        -ve   2365    121\n",
      "---------------------------------------------------\n",
      "precision:0.5150, recall:0.9988\n",
      "F1-score :0.6796\n",
      "accuracy :0.5264\n",
      "---------------------------------------------------\n",
      "para/transformer_0.05_0.0003.pth -----------------------------------------------------------------\n",
      "No of trainable parameters:  23804631\n",
      "Checkpoint Saved! Epoch 1 is better.***************************\n",
      "Epoch [1/2], loss: 16.9754 - acc: 0.6719 - val_loss: 6.2162 - val_acc: 0.8074\n",
      "Checkpoint Saved! Epoch 2 is better.***************************\n",
      "Epoch [2/2], loss: 9.1468 - acc: 0.8035 - val_loss: 8.9180 - val_acc: 0.8224\n"
     ]
    },
    {
     "data": {
      "image/png": "[encoded data removed]",
      "text/plain": [
       "<Figure size 432x288 with 1 Axes>"
      ]
     },
     "metadata": {
      "needs_background": "light"
     },
     "output_type": "display_data"
    },
    {
     "name": "stdout",
     "output_type": "stream",
     "text": [
      "Training done in 3m 39s\n",
      "---------------------------------------------------\n",
      "              Predicted\n",
      "              +ve    -ve\n",
      "Actual  +ve   2377    137\n",
      "        -ve    751   1735\n",
      "---------------------------------------------------\n",
      "precision:0.7599, recall:0.9455\n",
      "F1-score :0.8426\n",
      "accuracy :0.8224\n",
      "---------------------------------------------------\n",
      "para/transformer_0.05_0.0001.pth -----------------------------------------------------------------\n",
      "No of trainable parameters:  23804631\n",
      "Checkpoint Saved! Epoch 1 is better.***************************\n",
      "Epoch [1/2], loss: 7.5524 - acc: 0.6253 - val_loss: 2.3466 - val_acc: 0.7492\n",
      "Checkpoint Saved! Epoch 2 is better.***************************\n",
      "Epoch [2/2], loss: 3.3361 - acc: 0.7837 - val_loss: 2.2363 - val_acc: 0.8222\n"
     ]
    },
    {
     "data": {
      "image/png": "[encoded data removed]",
      "text/plain": [
       "<Figure size 432x288 with 1 Axes>"
      ]
     },
     "metadata": {
      "needs_background": "light"
     },
     "output_type": "display_data"
    },
    {
     "name": "stdout",
     "output_type": "stream",
     "text": [
      "Training done in 3m 44s\n",
      "---------------------------------------------------\n",
      "              Predicted\n",
      "              +ve    -ve\n",
      "Actual  +ve   1916    598\n",
      "        -ve    291   2195\n",
      "---------------------------------------------------\n",
      "precision:0.8681, recall:0.7621\n",
      "F1-score :0.8117\n",
      "accuracy :0.8222\n",
      "---------------------------------------------------\n",
      "para/transformer_0.05_3e-05.pth -----------------------------------------------------------------\n",
      "No of trainable parameters:  23804631\n",
      "Checkpoint Saved! Epoch 1 is better.***************************\n",
      "Epoch [1/2], loss: 7.5173 - acc: 0.6322 - val_loss: 3.0606 - val_acc: 0.7398\n",
      "Checkpoint Saved! Epoch 2 is better.***************************\n",
      "Epoch [2/2], loss: 2.1961 - acc: 0.7868 - val_loss: 1.6137 - val_acc: 0.7900\n"
     ]
    },
    {
     "data": {
      "image/png": "[encoded data removed]",
      "text/plain": [
       "<Figure size 432x288 with 1 Axes>"
      ]
     },
     "metadata": {
      "needs_background": "light"
     },
     "output_type": "display_data"
    },
    {
     "name": "stdout",
     "output_type": "stream",
     "text": [
      "Training done in 3m 42s\n",
      "---------------------------------------------------\n",
      "              Predicted\n",
      "              +ve    -ve\n",
      "Actual  +ve   1946    568\n",
      "        -ve    482   2004\n",
      "---------------------------------------------------\n",
      "precision:0.8015, recall:0.7741\n",
      "F1-score :0.7875\n",
      "accuracy :0.7900\n",
      "---------------------------------------------------\n",
      "para/transformer_0.1_0.001.pth -----------------------------------------------------------------\n",
      "No of trainable parameters:  23804631\n",
      "Checkpoint Saved! Epoch 1 is better.***************************\n",
      "Epoch [1/2], loss: 79.7141 - acc: 0.6243 - val_loss: 23.0066 - val_acc: 0.7854\n",
      "Checkpoint Saved! Epoch 2 is better.***************************\n",
      "Epoch [2/2], loss: 20.4984 - acc: 0.7240 - val_loss: 1.6600 - val_acc: 0.8202\n"
     ]
    },
    {
     "data": {
      "image/png": "[encoded data removed]",
      "text/plain": [
       "<Figure size 432x288 with 1 Axes>"
      ]
     },
     "metadata": {
      "needs_background": "light"
     },
     "output_type": "display_data"
    },
    {
     "name": "stdout",
     "output_type": "stream",
     "text": [
      "Training done in 3m 40s\n",
      "---------------------------------------------------\n",
      "              Predicted\n",
      "              +ve    -ve\n",
      "Actual  +ve   2010    504\n",
      "        -ve    395   2091\n",
      "---------------------------------------------------\n",
      "precision:0.8358, recall:0.7995\n",
      "F1-score :0.8172\n",
      "accuracy :0.8202\n",
      "---------------------------------------------------\n",
      "para/transformer_0.1_0.0003.pth -----------------------------------------------------------------\n",
      "No of trainable parameters:  23804631\n",
      "Checkpoint Saved! Epoch 1 is better.***************************\n",
      "Epoch [1/2], loss: 20.5281 - acc: 0.6773 - val_loss: 8.7981 - val_acc: 0.8260\n",
      "early stop at epoch 2oss: 6.8370 - acc: 0.92000\n"
     ]
    },
    {
     "data": {
      "image/png": "[encoded data removed]",
      "text/plain": [
       "<Figure size 432x288 with 1 Axes>"
      ]
     },
     "metadata": {
      "needs_background": "light"
     },
     "output_type": "display_data"
    },
    {
     "name": "stdout",
     "output_type": "stream",
     "text": [
      "Training done in 3m 39s\n",
      "---------------------------------------------------\n",
      "              Predicted\n",
      "              +ve    -ve\n",
      "Actual  +ve   1686    828\n",
      "        -ve    125   2361\n",
      "---------------------------------------------------\n",
      "precision:0.9310, recall:0.6706\n",
      "F1-score :0.7797\n",
      "accuracy :0.8094\n",
      "---------------------------------------------------\n",
      "para/transformer_0.1_0.0001.pth -----------------------------------------------------------------\n",
      "No of trainable parameters:  23804631\n",
      "Checkpoint Saved! Epoch 1 is better.***************************\n",
      "Epoch [1/2], loss: 8.8202 - acc: 0.6334 - val_loss: 3.5020 - val_acc: 0.7608\n",
      "Checkpoint Saved! Epoch 2 is better.***************************\n",
      "Epoch [2/2], loss: 4.7027 - acc: 0.7837 - val_loss: 3.2704 - val_acc: 0.8282\n"
     ]
    },
    {
     "data": {
      "image/png": "[encoded data removed]",
      "text/plain": [
       "<Figure size 432x288 with 1 Axes>"
      ]
     },
     "metadata": {
      "needs_background": "light"
     },
     "output_type": "display_data"
    },
    {
     "name": "stdout",
     "output_type": "stream",
     "text": [
      "Training done in 3m 42s\n",
      "---------------------------------------------------\n",
      "              Predicted\n",
      "              +ve    -ve\n",
      "Actual  +ve   1914    600\n",
      "        -ve    259   2227\n",
      "---------------------------------------------------\n",
      "precision:0.8808, recall:0.7613\n",
      "F1-score :0.8167\n",
      "accuracy :0.8282\n",
      "---------------------------------------------------\n",
      "para/transformer_0.1_3e-05.pth -----------------------------------------------------------------\n",
      "No of trainable parameters:  23804631\n",
      "Checkpoint Saved! Epoch 1 is better.***************************\n",
      "Epoch [1/2], loss: 8.2057 - acc: 0.6167 - val_loss: 5.6131 - val_acc: 0.6838\n",
      "Checkpoint Saved! Epoch 2 is better.***************************\n",
      "Epoch [2/2], loss: 3.5053 - acc: 0.7679 - val_loss: 3.5710 - val_acc: 0.7530\n"
     ]
    },
    {
     "data": {
      "image/png": "[encoded data removed]",
      "text/plain": [
       "<Figure size 432x288 with 1 Axes>"
      ]
     },
     "metadata": {
      "needs_background": "light"
     },
     "output_type": "display_data"
    },
    {
     "name": "stdout",
     "output_type": "stream",
     "text": [
      "Training done in 3m 40s\n",
      "---------------------------------------------------\n",
      "              Predicted\n",
      "              +ve    -ve\n",
      "Actual  +ve   2289    225\n",
      "        -ve   1010   1476\n",
      "---------------------------------------------------\n",
      "precision:0.6938, recall:0.9105\n",
      "F1-score :0.7875\n",
      "accuracy :0.7530\n",
      "---------------------------------------------------\n",
      "para/transformer_0.15_0.001.pth -----------------------------------------------------------------\n",
      "No of trainable parameters:  23804631\n",
      "Checkpoint Saved! Epoch 1 is better.***************************\n",
      "Epoch [1/2], loss: 107.5316 - acc: 0.5195 - val_loss: 66.7913 - val_acc: 0.5210\n",
      "early stop at epoch 2oss: 7.8604 - acc: 0.64000\n"
     ]
    },
    {
     "data": {
      "image/png": "[encoded data removed]",
      "text/plain": [
       "<Figure size 432x288 with 1 Axes>"
      ]
     },
     "metadata": {
      "needs_background": "light"
     },
     "output_type": "display_data"
    },
    {
     "name": "stdout",
     "output_type": "stream",
     "text": [
      "Training done in 3m 41s\n",
      "---------------------------------------------------\n",
      "              Predicted\n",
      "              +ve    -ve\n",
      "Actual  +ve    143   2371\n",
      "        -ve     35   2451\n",
      "---------------------------------------------------\n",
      "precision:0.8034, recall:0.0569\n",
      "F1-score :0.1062\n",
      "accuracy :0.5188\n",
      "---------------------------------------------------\n",
      "para/transformer_0.15_0.0003.pth -----------------------------------------------------------------\n",
      "No of trainable parameters:  23804631\n",
      "Checkpoint Saved! Epoch 1 is better.***************************\n",
      "Epoch [1/2], loss: 21.0863 - acc: 0.6713 - val_loss: 10.4489 - val_acc: 0.8100\n",
      "Checkpoint Saved! Epoch 2 is better.***************************\n",
      "Epoch [2/2], loss: 15.1077 - acc: 0.7942 - val_loss: 8.7043 - val_acc: 0.8478\n"
     ]
    },
    {
     "data": {
      "image/png": "[encoded data removed]",
      "text/plain": [
       "<Figure size 432x288 with 1 Axes>"
      ]
     },
     "metadata": {
      "needs_background": "light"
     },
     "output_type": "display_data"
    },
    {
     "name": "stdout",
     "output_type": "stream",
     "text": [
      "Training done in 3m 38s\n",
      "---------------------------------------------------\n",
      "              Predicted\n",
      "              +ve    -ve\n",
      "Actual  +ve   2196    318\n",
      "        -ve    443   2043\n",
      "---------------------------------------------------\n",
      "precision:0.8321, recall:0.8735\n",
      "F1-score :0.8523\n",
      "accuracy :0.8478\n",
      "---------------------------------------------------\n",
      "para/transformer_0.15_0.0001.pth -----------------------------------------------------------------\n",
      "No of trainable parameters:  23804631\n",
      "Checkpoint Saved! Epoch 1 is better.***************************\n",
      "Epoch [1/2], loss: 9.7062 - acc: 0.6248 - val_loss: 3.4167 - val_acc: 0.7756\n",
      "Checkpoint Saved! Epoch 2 is better.***************************\n",
      "Epoch [2/2], loss: 5.9938 - acc: 0.7706 - val_loss: 3.1280 - val_acc: 0.8364\n"
     ]
    },
    {
     "data": {
      "image/png": "[encoded data removed]",
      "text/plain": [
       "<Figure size 432x288 with 1 Axes>"
      ]
     },
     "metadata": {
      "needs_background": "light"
     },
     "output_type": "display_data"
    },
    {
     "name": "stdout",
     "output_type": "stream",
     "text": [
      "Training done in 3m 37s\n",
      "---------------------------------------------------\n",
      "              Predicted\n",
      "              +ve    -ve\n",
      "Actual  +ve   2083    431\n",
      "        -ve    387   2099\n",
      "---------------------------------------------------\n",
      "precision:0.8433, recall:0.8286\n",
      "F1-score :0.8359\n",
      "accuracy :0.8364\n",
      "---------------------------------------------------\n",
      "para/transformer_0.15_3e-05.pth -----------------------------------------------------------------\n",
      "No of trainable parameters:  23804631\n",
      "Checkpoint Saved! Epoch 1 is better.***************************\n",
      "Epoch [1/2], loss: 7.7915 - acc: 0.6249 - val_loss: 4.0677 - val_acc: 0.7314\n",
      "early stop at epoch 2oss: 3.4256 - acc: 0.76000\n"
     ]
    },
    {
     "data": {
      "image/png": "[encoded data removed]",
      "text/plain": [
       "<Figure size 432x288 with 1 Axes>"
      ]
     },
     "metadata": {
      "needs_background": "light"
     },
     "output_type": "display_data"
    },
    {
     "name": "stdout",
     "output_type": "stream",
     "text": [
      "Training done in 4m 13s\n",
      "---------------------------------------------------\n",
      "              Predicted\n",
      "              +ve    -ve\n",
      "Actual  +ve   1244   1270\n",
      "        -ve    171   2315\n",
      "---------------------------------------------------\n",
      "precision:0.8792, recall:0.4948\n",
      "F1-score :0.6332\n",
      "accuracy :0.7118\n",
      "---------------------------------------------------\n",
      "para/transformer_2_0.001.pth -----------------------------------------------------------------\n"
     ]
    },
    {
     "ename": "ValueError",
     "evalue": "dropout probability has to be between 0 and 1, but got 2",
     "output_type": "error",
     "traceback": [
      "\u001b[0;31m---------------------------------------------------------------------------\u001b[0m",
      "\u001b[0;31mValueError\u001b[0m                                Traceback (most recent call last)",
      "\u001b[0;32m/tmp/ipykernel_22691/1369734595.py\u001b[0m in \u001b[0;36m<module>\u001b[0;34m\u001b[0m\n\u001b[1;32m     11\u001b[0m         \u001b[0mCHECKPOINT_PATH\u001b[0m \u001b[0;34m=\u001b[0m \u001b[0;34m'para/transformer'\u001b[0m\u001b[0;34m+\u001b[0m\u001b[0;34m'_'\u001b[0m\u001b[0;34m+\u001b[0m\u001b[0mstr\u001b[0m\u001b[0;34m(\u001b[0m\u001b[0mdrop_prob\u001b[0m\u001b[0;34m)\u001b[0m\u001b[0;34m+\u001b[0m\u001b[0;34m'_'\u001b[0m\u001b[0;34m+\u001b[0m\u001b[0mstr\u001b[0m\u001b[0;34m(\u001b[0m\u001b[0mLR\u001b[0m\u001b[0;34m)\u001b[0m\u001b[0;34m+\u001b[0m\u001b[0;34m'.pth'\u001b[0m\u001b[0;34m\u001b[0m\u001b[0;34m\u001b[0m\u001b[0m\n\u001b[1;32m     12\u001b[0m         \u001b[0mprint\u001b[0m\u001b[0;34m(\u001b[0m\u001b[0mCHECKPOINT_PATH\u001b[0m\u001b[0;34m,\u001b[0m\u001b[0;34m'-----------------------------------------------------------------'\u001b[0m\u001b[0;34m)\u001b[0m\u001b[0;34m\u001b[0m\u001b[0;34m\u001b[0m\u001b[0m\n\u001b[0;32m---> 13\u001b[0;31m         \u001b[0mmodel\u001b[0m \u001b[0;34m=\u001b[0m \u001b[0mTransformer\u001b[0m\u001b[0;34m(\u001b[0m\u001b[0mvocab_size\u001b[0m\u001b[0;34m,\u001b[0m \u001b[0mEMBED_SIZE\u001b[0m\u001b[0;34m,\u001b[0m \u001b[0mnum_heads\u001b[0m\u001b[0;34m,\u001b[0m \u001b[0mhidden_dim\u001b[0m\u001b[0;34m,\u001b[0m \u001b[0mn_layers\u001b[0m\u001b[0;34m,\u001b[0m \u001b[0mMAX_LEN\u001b[0m\u001b[0;34m,\u001b[0m \u001b[0mdrop_prob\u001b[0m\u001b[0;34m)\u001b[0m\u001b[0;34m.\u001b[0m\u001b[0mto\u001b[0m\u001b[0;34m(\u001b[0m\u001b[0mdevice\u001b[0m\u001b[0;34m)\u001b[0m\u001b[0;34m\u001b[0m\u001b[0;34m\u001b[0m\u001b[0m\n\u001b[0m\u001b[1;32m     14\u001b[0m         \u001b[0mloss_fn\u001b[0m \u001b[0;34m=\u001b[0m \u001b[0mnn\u001b[0m\u001b[0;34m.\u001b[0m\u001b[0mBCEWithLogitsLoss\u001b[0m\u001b[0;34m(\u001b[0m\u001b[0;34m)\u001b[0m\u001b[0;34m.\u001b[0m\u001b[0mto\u001b[0m\u001b[0;34m(\u001b[0m\u001b[0mdevice\u001b[0m\u001b[0;34m)\u001b[0m   \u001b[0;31m#####  Diff from attention model\u001b[0m\u001b[0;34m\u001b[0m\u001b[0;34m\u001b[0m\u001b[0m\n\u001b[1;32m     15\u001b[0m         \u001b[0moptimizer\u001b[0m \u001b[0;34m=\u001b[0m \u001b[0moptim\u001b[0m\u001b[0;34m.\u001b[0m\u001b[0mAdam\u001b[0m\u001b[0;34m(\u001b[0m\u001b[0mmodel\u001b[0m\u001b[0;34m.\u001b[0m\u001b[0mparameters\u001b[0m\u001b[0;34m(\u001b[0m\u001b[0;34m)\u001b[0m\u001b[0;34m,\u001b[0m \u001b[0mlr\u001b[0m\u001b[0;34m=\u001b[0m\u001b[0mLR\u001b[0m\u001b[0;34m,\u001b[0m \u001b[0mbetas\u001b[0m\u001b[0;34m=\u001b[0m\u001b[0;34m(\u001b[0m\u001b[0;36m0.7\u001b[0m\u001b[0;34m,\u001b[0m \u001b[0;36m0.99\u001b[0m\u001b[0;34m)\u001b[0m\u001b[0;34m)\u001b[0m\u001b[0;34m\u001b[0m\u001b[0;34m\u001b[0m\u001b[0m\n",
      "\u001b[0;32m~/IMDB/models.py\u001b[0m in \u001b[0;36m__init__\u001b[0;34m(self, num_token, num_inputs, num_heads, num_hidden, num_layers, MAX_LEN, dropout)\u001b[0m\n\u001b[1;32m    155\u001b[0m         \u001b[0mself\u001b[0m\u001b[0;34m.\u001b[0m\u001b[0mmodel_name\u001b[0m \u001b[0;34m=\u001b[0m \u001b[0;34m'transformer'\u001b[0m\u001b[0;34m\u001b[0m\u001b[0;34m\u001b[0m\u001b[0m\n\u001b[1;32m    156\u001b[0m         \u001b[0mself\u001b[0m\u001b[0;34m.\u001b[0m\u001b[0mmask_source\u001b[0m \u001b[0;34m=\u001b[0m \u001b[0;32mNone\u001b[0m\u001b[0;34m\u001b[0m\u001b[0;34m\u001b[0m\u001b[0m\n\u001b[0;32m--> 157\u001b[0;31m         \u001b[0mself\u001b[0m\u001b[0;34m.\u001b[0m\u001b[0mposition_enc\u001b[0m \u001b[0;34m=\u001b[0m \u001b[0mPosEnc\u001b[0m\u001b[0;34m(\u001b[0m\u001b[0mnum_inputs\u001b[0m\u001b[0;34m,\u001b[0m \u001b[0mdropout\u001b[0m\u001b[0;34m)\u001b[0m\u001b[0;34m\u001b[0m\u001b[0;34m\u001b[0m\u001b[0m\n\u001b[0m\u001b[1;32m    158\u001b[0m         \u001b[0mlayers_enc\u001b[0m \u001b[0;34m=\u001b[0m \u001b[0mTransformerEncoderLayer\u001b[0m\u001b[0;34m(\u001b[0m\u001b[0mnum_inputs\u001b[0m\u001b[0;34m,\u001b[0m \u001b[0mnum_heads\u001b[0m\u001b[0;34m,\u001b[0m \u001b[0mnum_hidden\u001b[0m\u001b[0;34m,\u001b[0m \u001b[0mdropout\u001b[0m\u001b[0;34m)\u001b[0m\u001b[0;34m\u001b[0m\u001b[0;34m\u001b[0m\u001b[0m\n\u001b[1;32m    159\u001b[0m         \u001b[0mself\u001b[0m\u001b[0;34m.\u001b[0m\u001b[0menc_transformer\u001b[0m \u001b[0;34m=\u001b[0m \u001b[0mTransformerEncoder\u001b[0m\u001b[0;34m(\u001b[0m\u001b[0mlayers_enc\u001b[0m\u001b[0;34m,\u001b[0m \u001b[0mnum_layers\u001b[0m\u001b[0;34m)\u001b[0m\u001b[0;34m\u001b[0m\u001b[0;34m\u001b[0m\u001b[0m\n",
      "\u001b[0;32m~/IMDB/models.py\u001b[0m in \u001b[0;36m__init__\u001b[0;34m(self, d_m, dropout, size_limit)\u001b[0m\n\u001b[1;32m    133\u001b[0m         \u001b[0;31m# d_m is same as the dimension of the embeddings\u001b[0m\u001b[0;34m\u001b[0m\u001b[0;34m\u001b[0m\u001b[0;34m\u001b[0m\u001b[0m\n\u001b[1;32m    134\u001b[0m         \u001b[0msuper\u001b[0m\u001b[0;34m(\u001b[0m\u001b[0;34m)\u001b[0m\u001b[0;34m.\u001b[0m\u001b[0m__init__\u001b[0m\u001b[0;34m(\u001b[0m\u001b[0;34m)\u001b[0m\u001b[0;34m\u001b[0m\u001b[0;34m\u001b[0m\u001b[0m\n\u001b[0;32m--> 135\u001b[0;31m         \u001b[0mself\u001b[0m\u001b[0;34m.\u001b[0m\u001b[0mdropout\u001b[0m \u001b[0;34m=\u001b[0m \u001b[0mnn\u001b[0m\u001b[0;34m.\u001b[0m\u001b[0mDropout\u001b[0m\u001b[0;34m(\u001b[0m\u001b[0mdropout\u001b[0m\u001b[0;34m)\u001b[0m\u001b[0;34m\u001b[0m\u001b[0;34m\u001b[0m\u001b[0m\n\u001b[0m\u001b[1;32m    136\u001b[0m         \u001b[0mp_enc\u001b[0m \u001b[0;34m=\u001b[0m \u001b[0mtorch\u001b[0m\u001b[0;34m.\u001b[0m\u001b[0mzeros\u001b[0m\u001b[0;34m(\u001b[0m\u001b[0msize_limit\u001b[0m\u001b[0;34m,\u001b[0m \u001b[0md_m\u001b[0m\u001b[0;34m)\u001b[0m\u001b[0;34m\u001b[0m\u001b[0;34m\u001b[0m\u001b[0m\n\u001b[1;32m    137\u001b[0m         \u001b[0mpos\u001b[0m \u001b[0;34m=\u001b[0m \u001b[0mtorch\u001b[0m\u001b[0;34m.\u001b[0m\u001b[0marange\u001b[0m\u001b[0;34m(\u001b[0m\u001b[0;36m0\u001b[0m\u001b[0;34m,\u001b[0m \u001b[0msize_limit\u001b[0m\u001b[0;34m,\u001b[0m \u001b[0mdtype\u001b[0m\u001b[0;34m=\u001b[0m\u001b[0mtorch\u001b[0m\u001b[0;34m.\u001b[0m\u001b[0mfloat\u001b[0m\u001b[0;34m)\u001b[0m\u001b[0;34m.\u001b[0m\u001b[0munsqueeze\u001b[0m\u001b[0;34m(\u001b[0m\u001b[0;36m1\u001b[0m\u001b[0;34m)\u001b[0m\u001b[0;34m\u001b[0m\u001b[0;34m\u001b[0m\u001b[0m\n",
      "\u001b[0;32m/opt/apps/flight/env/conda+jupyter/lib/python3.9/site-packages/torch/nn/modules/dropout.py\u001b[0m in \u001b[0;36m__init__\u001b[0;34m(self, p, inplace)\u001b[0m\n\u001b[1;32m     13\u001b[0m         \u001b[0msuper\u001b[0m\u001b[0;34m(\u001b[0m\u001b[0m_DropoutNd\u001b[0m\u001b[0;34m,\u001b[0m \u001b[0mself\u001b[0m\u001b[0;34m)\u001b[0m\u001b[0;34m.\u001b[0m\u001b[0m__init__\u001b[0m\u001b[0;34m(\u001b[0m\u001b[0;34m)\u001b[0m\u001b[0;34m\u001b[0m\u001b[0;34m\u001b[0m\u001b[0m\n\u001b[1;32m     14\u001b[0m         \u001b[0;32mif\u001b[0m \u001b[0mp\u001b[0m \u001b[0;34m<\u001b[0m \u001b[0;36m0\u001b[0m \u001b[0;32mor\u001b[0m \u001b[0mp\u001b[0m \u001b[0;34m>\u001b[0m \u001b[0;36m1\u001b[0m\u001b[0;34m:\u001b[0m\u001b[0;34m\u001b[0m\u001b[0;34m\u001b[0m\u001b[0m\n\u001b[0;32m---> 15\u001b[0;31m             raise ValueError(\"dropout probability has to be between 0 and 1, \"\n\u001b[0m\u001b[1;32m     16\u001b[0m                              \"but got {}\".format(p))\n\u001b[1;32m     17\u001b[0m         \u001b[0mself\u001b[0m\u001b[0;34m.\u001b[0m\u001b[0mp\u001b[0m \u001b[0;34m=\u001b[0m \u001b[0mp\u001b[0m\u001b[0;34m\u001b[0m\u001b[0;34m\u001b[0m\u001b[0m\n",
      "\u001b[0;31mValueError\u001b[0m: dropout probability has to be between 0 and 1, but got 2"
     ]
    }
   ],
   "source": [
    "# Transformer tuning\n",
    "\n",
    "NUM_EPOCHS = 2\n",
    "name_tuning = 't-drp-lr'\n",
    "\n",
    "EMBED_SIZE = 256\n",
    "num_heads=4\n",
    "hidden_dim = 256\n",
    "n_layers = 2\n",
    "\n",
    "best_acc=0\n",
    "for i in [0.05, 0.1, 0.15]:\n",
    "    for j in [1e-3, 3e-4, 1e-4, 3e-5]:\n",
    "        dropout, LR = i, j              #_____________change the variable name to suit needs\n",
    "        \n",
    "        CHECKPOINT_PATH = 'para/'+name_tuning+'_'+str(i)+'_'+str(j)+'.pth'\n",
    "        print(CHECKPOINT_PATH,'-----------------------------------------------------------------')\n",
    "        model = Transformer(vocab_size, EMBED_SIZE, num_heads, hidden_dim, n_layers, MAX_LEN, dropout).to(device)\n",
    "        loss_fn = nn.BCEWithLogitsLoss().to(device)   #####  Diff from attention model\n",
    "        optimizer = optim.Adam(model.parameters(), lr=LR, betas=(0.7, 0.99))\n",
    "        scheduler = optim.lr_scheduler.StepLR(optimizer, step_size=1, gamma=0.9)\n",
    "        print('No of trainable parameters: ', para_num(model))\n",
    "        randomize()\n",
    "        history = train(model, train_dl, valid_dl, loss_fn, optimizer, NUM_EPOCHS, accuracy, device, CHECKPOINT_PATH, scheduler, binaryloss=True, early_stop=True)\n",
    "        confusion_m, acc, precision, recall = performance(model, valid_dl, binaryloss=True)\n",
    "        if acc > best_acc:\n",
    "            best_acc = acc\n",
    "            best_hyper1 = i\n",
    "            best_hyper2 = j\n",
    "print('--------<<<-------best accuracy: {:.4f}, best hyperparameters:{}, {} -------->>>--------'.format(best_acc, best_hyper1, best_hyper2))"
   ]
  },
  {
   "cell_type": "code",
   "execution_count": null,
   "id": "55774902-6850-4214-886f-eb9753672248",
   "metadata": {},
   "outputs": [],
   "source": []
  },
  {
   "cell_type": "code",
   "execution_count": null,
   "id": "da0cfa83-19be-418d-83c3-f2c1e98c59fb",
   "metadata": {},
   "outputs": [],
   "source": []
  },
  {
   "cell_type": "code",
   "execution_count": 28,
   "id": "641b9d52-8bf8-4d61-a5a8-0f996fbb2504",
   "metadata": {},
   "outputs": [
    {
     "name": "stdout",
     "output_type": "stream",
     "text": [
      "No of trainable parameters:  21284031\n",
      "Checkpoint Saved! Epoch 1 is better.***************************\n",
      "Epoch [1/5], loss: 12.9991 - acc: 0.6400 - val_loss: 4.0977 - val_acc: 0.7868\n",
      "Checkpoint Saved! Epoch 2 is better.***************************\n",
      "Epoch [2/5], loss: 7.4803 - acc: 0.7674 - val_loss: 4.1502 - val_acc: 0.8386\n",
      "Epoch [3/5], loss: 6.2845 - acc: 0.8191 - val_loss: 9.1514 - val_acc: 0.8134\n",
      "Checkpoint Saved! Epoch 4 is better.***************************\n",
      "Epoch [4/5], loss: 5.3712 - acc: 0.8508 - val_loss: 5.8788 - val_acc: 0.8650\n",
      "Epoch [5/5], loss: 4.4621 - acc: 0.8781 - val_loss: 5.8816 - val_acc: 0.8636\n"
     ]
    },
    {
     "data": {
      "image/png": "[encoded data removed]",
      "text/plain": [
       "<Figure size 432x288 with 1 Axes>"
      ]
     },
     "metadata": {
      "needs_background": "light"
     },
     "output_type": "display_data"
    },
    {
     "name": "stdout",
     "output_type": "stream",
     "text": [
      "Training done in 7m 57s\n",
      "---------------------------------------------------\n",
      "              Predicted\n",
      "              +ve    -ve\n",
      "Actual  +ve   2176    338\n",
      "        -ve    344   2142\n",
      "---------------------------------------------------\n",
      "precision:0.8635, recall:0.8656\n",
      "F1-score :0.8645\n",
      "accuracy :0.8636\n",
      "---------------------------------------------------\n",
      "tensor([0, 0, 0, 0, 1, 1, 1, 0, 1, 0, 1, 0, 0, 1, 1, 1, 1, 0, 0, 1],\n",
      "       device='cuda:0')\n",
      "tensor([-115.4083,  -81.0060,  -11.2738,  -98.7257,  106.2467,  136.4052,\n",
      "         114.6797, -195.5614,   79.0439, -135.3645,  118.4510, -100.5237,\n",
      "        -163.3451,  116.7595,  129.8436,  171.4897,   65.7118,  -83.3718,\n",
      "        -102.8578,  174.4597], device='cuda:0')\n",
      "tensor([0, 0, 0, 0, 0, 1, 1, 0, 1, 0, 1, 0, 0, 1, 1, 1, 1, 0, 0, 1],\n",
      "       device='cuda:0')\n"
     ]
    }
   ],
   "source": [
    "# Transformer 3\n",
    "\n",
    "NUM_EPOCHS = 5\n",
    "\n",
    "EMBED_SIZE = 256   # embed_dim must be divisible by num_heads\n",
    "num_heads = 4      # num of heads in (multi head) attention models\n",
    "hidden_dim = 256\n",
    "n_layers = 2\n",
    "dropout = 0.25\n",
    "LR = 1e-4\n",
    "\n",
    "CHECKPOINT_PATH = 'para/transformer.pth'\n",
    "\n",
    "model = Transformer(vocab_size, EMBED_SIZE, num_heads, hidden_dim, n_layers, MAX_LEN, dropout).to(device)\n",
    "loss_fn = nn.BCEWithLogitsLoss().to(device)   #####  Diff from attention model\n",
    "optimizer = optim.Adam(model.parameters(), lr=LR, betas=(0.7, 0.99))\n",
    "scheduler = optim.lr_scheduler.StepLR(optimizer, step_size=1, gamma=0.9)\n",
    "print('No of trainable parameters: ', para_num(model))\n",
    "\n",
    "randomize()\n",
    "history = train(model, train_dl, valid_dl, loss_fn, optimizer, NUM_EPOCHS, accuracy, device, CHECKPOINT_PATH, scheduler, binaryloss=True)\n",
    "\n",
    "\n",
    "confusion_m, acc, precision, recall = performance(model, valid_dl, binaryloss=True)\n",
    "pred_all, out_all, label_all = predict(model, valid_dl, binaryloss=True)\n",
    "print(pred_all[0:20])\n",
    "print(out_all[0:20])\n",
    "print(label_all[0:20])"
   ]
  },
  {
   "cell_type": "code",
   "execution_count": null,
   "id": "733d70ab-1b7e-4992-9826-fbb74700cbf5",
   "metadata": {},
   "outputs": [],
   "source": []
  },
  {
   "cell_type": "markdown",
   "id": "39bd1958",
   "metadata": {},
   "source": [
    "## Train"
   ]
  },
  {
   "cell_type": "markdown",
   "id": "73af98c9",
   "metadata": {},
   "source": [
    "## Test"
   ]
  },
  {
   "cell_type": "code",
   "execution_count": 33,
   "id": "40516018",
   "metadata": {},
   "outputs": [
    {
     "data": {
      "text/plain": [
       "<All keys matched successfully>"
      ]
     },
     "execution_count": 33,
     "metadata": {},
     "output_type": "execute_result"
    }
   ],
   "source": [
    "model.load_state_dict(torch.load(CHECKPOINT_PATH))"
   ]
  },
  {
   "cell_type": "code",
   "execution_count": 34,
   "id": "6bf13725",
   "metadata": {},
   "outputs": [
    {
     "data": {
      "text/plain": [
       "(0.29374080657958984, 0.8809999999999991)"
      ]
     },
     "execution_count": 34,
     "metadata": {},
     "output_type": "execute_result"
    }
   ],
   "source": [
    "evaluate(model, test_dl, loss_fn, accuracy, device)"
   ]
  },
  {
   "cell_type": "markdown",
   "id": "c8215d60-ae9c-4603-aa54-c5c50e0dfa81",
   "metadata": {},
   "source": [
    "## Final model training and testing"
   ]
  },
  {
   "cell_type": "code",
   "execution_count": null,
   "id": "18c55df4-daf5-4299-8ef0-7b4f05d5e0e7",
   "metadata": {},
   "outputs": [],
   "source": []
  },
  {
   "cell_type": "markdown",
   "id": "0848b10e-2285-4eb0-b88e-d996b75401f0",
   "metadata": {},
   "source": [
    "## Generalization - Restaurant reviews"
   ]
  },
  {
   "cell_type": "markdown",
   "id": "cac5f104",
   "metadata": {},
   "source": [
    "###  explore some wrong predictions..."
   ]
  },
  {
   "cell_type": "code",
   "execution_count": 51,
   "id": "7a703aff-7edb-4b4a-8abd-bf6948bc561c",
   "metadata": {},
   "outputs": [],
   "source": [
    "config = {\n",
    "    \"LR\": tune.sample_from(lambda spec: 10 ** (-10 * np.random.rand())),\n",
    "    \"dropout\": tune.uniform(0.01, 0.99),\n",
    "}"
   ]
  },
  {
   "cell_type": "code",
   "execution_count": 56,
   "id": "0115ea66-92e6-4be0-a750-3b55cba32c95",
   "metadata": {},
   "outputs": [],
   "source": [
    "# Transformer 3\n",
    "\n",
    "def train_transformer(config, model=None, checkpoint_dir=None):\n",
    "    \n",
    "    NUM_EPOCHS = 2   if not 'NUM_EPOCHS' in config else config['NUM_EPOCHS']\n",
    "    \n",
    "    # EMBED_SIZE must be divisible by num_heads\n",
    "    EMBED_SIZE = 256  if not 'EMBED_SIZE' in config else config['EMBED_SIZE']\n",
    "    num_heads = 4     if not 'num_heads' in config else config['num_heads']\n",
    "    hidden_dim = 256  if not 'hidden_dim' in config else config['hidden_dim']\n",
    "    n_layers = 2      if not 'n_layers' in config else config['n_layers']\n",
    "    dropout = 0.25  if not 'dropout' in config else config['dropout']\n",
    "    LR = 1e-4         if not 'LR' in config else config['LR']\n",
    "\n",
    "    CHECKPOINT_PATH = 'para/transformer.pth'  if not 'CHECKPOINT_PATH' in config else config['CHECKPOINT_PATH']\n",
    "\n",
    "    if model is None:\n",
    "        model = Transformer(vocab_size, EMBED_SIZE, num_heads, hidden_dim, n_layers, MAX_LEN, dropout).to(device)\n",
    "    loss_fn = nn.BCEWithLogitsLoss().to(device)   #####  Diff from attention model\n",
    "    optimizer = optim.Adam(model.parameters(), lr=LR, betas=(0.7, 0.99))\n",
    "    scheduler = optim.lr_scheduler.StepLR(optimizer, step_size=1, gamma=0.9)\n",
    "    print('No of trainable parameters: ', para_num(model))\n",
    "\n",
    "    randomize()\n",
    "    if model is None:\n",
    "        for i in range(NUM_EPOCHS):\n",
    "            history = train(model, train_dl, valid_dl, loss_fn, optimizer, 1, accuracy, device, CHECKPOINT_PATH, scheduler, binaryloss=True, print_step=False)\n",
    "            tune.report(mean_accuracy=history['val_acc'])\n",
    "    else:\n",
    "        history = train(model, train_dl, valid_dl, loss_fn, optimizer, NUM_EPOCHS, accuracy, device, CHECKPOINT_PATH, scheduler, binaryloss=True, print_step=True)\n",
    "\n",
    "    confusion_m, acc, precision, recall = performance(model, valid_dl, binaryloss=True)"
   ]
  },
  {
   "cell_type": "code",
   "execution_count": 53,
   "id": "8635ab19-18fd-4e53-8952-ba403800ebe3",
   "metadata": {},
   "outputs": [
    {
     "name": "stderr",
     "output_type": "stream",
     "text": [
      "2022-05-04 05:31:41,890\tINFO worker.py:946 -- Connecting to existing Ray cluster at address: 10.10.4.4:6379\n",
      "2022-05-04 05:31:41,891\tINFO worker.py:963 -- Calling ray.init() again after it has already been called.\n"
     ]
    }
   ],
   "source": [
    "import ray\n",
    "from ray import tune\n",
    "from ray.tune.schedulers import ASHAScheduler\n",
    "from ray.tune import JupyterNotebookReporter, CLIReporter, ProgressReporter\n",
    "\n",
    "#initialize ray, enable distributive exeucution\n",
    "ray.init(ignore_reinit_error=True, address=\"auto\")\n",
    "reporter = JupyterNotebookReporter(overwrite=False, max_report_frequency=900)"
   ]
  },
  {
   "cell_type": "code",
   "execution_count": 54,
   "id": "4b4759c0-a30e-47bd-b6fa-cdf6d7ca1b64",
   "metadata": {},
   "outputs": [
    {
     "name": "stderr",
     "output_type": "stream",
     "text": [
      "2022-05-04 05:31:46,710\tINFO trial_runner.py:803 -- starting train_transformer_1a138_00000\n",
      "2022-05-04 05:31:47,983\tWARNING worker.py:1382 -- Warning: The actor ImplicitFunc is very large (79 MiB). Check that its definition is not implicitly capturing a large array or other object in scope. Tip: use ray.put() to put large objects in the Ray object store.\n",
      "2022-05-04 05:31:48,642\tWARNING util.py:171 -- The `start_trial` operation took 1.931 s, which may be a performance bottleneck.\n"
     ]
    },
    {
     "data": {
      "text/html": [
       "== Status ==<br>Current time: 2022-05-04 05:31:57 (running for 00:00:13.09)<br>Memory usage on this node: 29.8/376.2 GiB<br>Using AsyncHyperBand: num_stopped=0\n",
       "Bracket: Iter 64.000: None | Iter 16.000: None | Iter 4.000: None | Iter 1.000: None<br>Resources requested: 1.0/48 CPUs, 1.0/1 GPUs, 0.0/236.25 GiB heap, 0.0/105.24 GiB objects<br>Result logdir: /users/adcm168/ray_results/train_transformer_2022-05-04_05-31-44<br>Number of trials: 2/2 (1 PENDING, 1 RUNNING)<br><br>"
      ],
      "text/plain": [
       "<IPython.core.display.HTML object>"
      ]
     },
     "metadata": {},
     "output_type": "display_data"
    },
    {
     "name": "stdout",
     "output_type": "stream",
     "text": [
      "\u001b[2m\u001b[36m(train_transformer pid=8067)\u001b[0m No of trainable parameters:  21284031\n"
     ]
    },
    {
     "name": "stderr",
     "output_type": "stream",
     "text": [
      "2022-05-04 05:33:35,162\tERROR trial_runner.py:876 -- Trial train_transformer_1a138_00000: Error processing event.\n",
      "NoneType: None\n",
      "\u001b[2m\u001b[36m(train_transformer pid=8067)\u001b[0m 2022-05-04 05:33:35,076\tERROR function_runner.py:281 -- Runner Thread raised error.\n",
      "\u001b[2m\u001b[36m(train_transformer pid=8067)\u001b[0m Traceback (most recent call last):\n",
      "\u001b[2m\u001b[36m(train_transformer pid=8067)\u001b[0m   File \"/opt/apps/flight/env/conda+jupyter/lib/python3.9/site-packages/ray/tune/function_runner.py\", line 272, in run\n",
      "\u001b[2m\u001b[36m(train_transformer pid=8067)\u001b[0m     self._entrypoint()\n",
      "\u001b[2m\u001b[36m(train_transformer pid=8067)\u001b[0m   File \"/opt/apps/flight/env/conda+jupyter/lib/python3.9/site-packages/ray/tune/function_runner.py\", line 348, in entrypoint\n",
      "\u001b[2m\u001b[36m(train_transformer pid=8067)\u001b[0m     return self._trainable_func(\n",
      "\u001b[2m\u001b[36m(train_transformer pid=8067)\u001b[0m   File \"/opt/apps/flight/env/conda+jupyter/lib/python3.9/site-packages/ray/util/tracing/tracing_helper.py\", line 462, in _resume_span\n",
      "\u001b[2m\u001b[36m(train_transformer pid=8067)\u001b[0m     return method(self, *_args, **_kwargs)\n",
      "\u001b[2m\u001b[36m(train_transformer pid=8067)\u001b[0m   File \"/opt/apps/flight/env/conda+jupyter/lib/python3.9/site-packages/ray/tune/function_runner.py\", line 640, in _trainable_func\n",
      "\u001b[2m\u001b[36m(train_transformer pid=8067)\u001b[0m     output = fn()\n",
      "\u001b[2m\u001b[36m(train_transformer pid=8067)\u001b[0m   File \"/tmp/ipykernel_278399/2424503157.py\", line 25, in train_transformer\n",
      "\u001b[2m\u001b[36m(train_transformer pid=8067)\u001b[0m   File \"/tmp/ipykernel_278399/746676373.py\", line 24, in train\n",
      "\u001b[2m\u001b[36m(train_transformer pid=8067)\u001b[0m   File \"/opt/apps/flight/env/conda+jupyter/lib/python3.9/site-packages/torch/serialization.py\", line 376, in save\n",
      "\u001b[2m\u001b[36m(train_transformer pid=8067)\u001b[0m     with _open_file_like(f, 'wb') as opened_file:\n",
      "\u001b[2m\u001b[36m(train_transformer pid=8067)\u001b[0m   File \"/opt/apps/flight/env/conda+jupyter/lib/python3.9/site-packages/torch/serialization.py\", line 230, in _open_file_like\n",
      "\u001b[2m\u001b[36m(train_transformer pid=8067)\u001b[0m     return _open_file(name_or_buffer, mode)\n",
      "\u001b[2m\u001b[36m(train_transformer pid=8067)\u001b[0m   File \"/opt/apps/flight/env/conda+jupyter/lib/python3.9/site-packages/torch/serialization.py\", line 211, in __init__\n",
      "\u001b[2m\u001b[36m(train_transformer pid=8067)\u001b[0m     super(_open_file, self).__init__(open(name, mode))\n",
      "\u001b[2m\u001b[36m(train_transformer pid=8067)\u001b[0m FileNotFoundError: [Errno 2] No such file or directory: 'para/transformer.pth'\n",
      "\u001b[2m\u001b[36m(train_transformer pid=8067)\u001b[0m Exception in thread Thread-3:\n",
      "\u001b[2m\u001b[36m(train_transformer pid=8067)\u001b[0m Traceback (most recent call last):\n",
      "\u001b[2m\u001b[36m(train_transformer pid=8067)\u001b[0m   File \"/opt/apps/flight/env/conda+jupyter/lib/python3.9/threading.py\", line 954, in _bootstrap_inner\n",
      "\u001b[2m\u001b[36m(train_transformer pid=8067)\u001b[0m     self.run()\n",
      "\u001b[2m\u001b[36m(train_transformer pid=8067)\u001b[0m   File \"/opt/apps/flight/env/conda+jupyter/lib/python3.9/site-packages/ray/tune/function_runner.py\", line 298, in run\n",
      "\u001b[2m\u001b[36m(train_transformer pid=8067)\u001b[0m     raise e\n",
      "\u001b[2m\u001b[36m(train_transformer pid=8067)\u001b[0m   File \"/opt/apps/flight/env/conda+jupyter/lib/python3.9/site-packages/ray/tune/function_runner.py\", line 272, in run\n",
      "\u001b[2m\u001b[36m(train_transformer pid=8067)\u001b[0m     self._entrypoint()\n",
      "\u001b[2m\u001b[36m(train_transformer pid=8067)\u001b[0m   File \"/opt/apps/flight/env/conda+jupyter/lib/python3.9/site-packages/ray/tune/function_runner.py\", line 348, in entrypoint\n",
      "\u001b[2m\u001b[36m(train_transformer pid=8067)\u001b[0m     return self._trainable_func(\n",
      "\u001b[2m\u001b[36m(train_transformer pid=8067)\u001b[0m   File \"/opt/apps/flight/env/conda+jupyter/lib/python3.9/site-packages/ray/util/tracing/tracing_helper.py\", line 462, in _resume_span\n",
      "\u001b[2m\u001b[36m(train_transformer pid=8067)\u001b[0m     return method(self, *_args, **_kwargs)\n",
      "\u001b[2m\u001b[36m(train_transformer pid=8067)\u001b[0m   File \"/opt/apps/flight/env/conda+jupyter/lib/python3.9/site-packages/ray/tune/function_runner.py\", line 640, in _trainable_func\n",
      "\u001b[2m\u001b[36m(train_transformer pid=8067)\u001b[0m     output = fn()\n",
      "\u001b[2m\u001b[36m(train_transformer pid=8067)\u001b[0m   File \"/tmp/ipykernel_278399/2424503157.py\", line 25, in train_transformer\n",
      "\u001b[2m\u001b[36m(train_transformer pid=8067)\u001b[0m   File \"/tmp/ipykernel_278399/746676373.py\", line 24, in train\n",
      "\u001b[2m\u001b[36m(train_transformer pid=8067)\u001b[0m   File \"/opt/apps/flight/env/conda+jupyter/lib/python3.9/site-packages/torch/serialization.py\", line 376, in save\n",
      "\u001b[2m\u001b[36m(train_transformer pid=8067)\u001b[0m     with _open_file_like(f, 'wb') as opened_file:\n",
      "\u001b[2m\u001b[36m(train_transformer pid=8067)\u001b[0m   File \"/opt/apps/flight/env/conda+jupyter/lib/python3.9/site-packages/torch/serialization.py\", line 230, in _open_file_like\n",
      "\u001b[2m\u001b[36m(train_transformer pid=8067)\u001b[0m     return _open_file(name_or_buffer, mode)\n",
      "\u001b[2m\u001b[36m(train_transformer pid=8067)\u001b[0m   File \"/opt/apps/flight/env/conda+jupyter/lib/python3.9/site-packages/torch/serialization.py\", line 211, in __init__\n",
      "\u001b[2m\u001b[36m(train_transformer pid=8067)\u001b[0m     super(_open_file, self).__init__(open(name, mode))\n",
      "\u001b[2m\u001b[36m(train_transformer pid=8067)\u001b[0m FileNotFoundError: [Errno 2] No such file or directory: 'para/transformer.pth'\n",
      "2022-05-04 05:33:35,497\tINFO trial_runner.py:803 -- starting train_transformer_1a138_00001\n",
      "2022-05-04 05:33:36,694\tWARNING util.py:171 -- The `start_trial` operation took 1.196 s, which may be a performance bottleneck.\n"
     ]
    },
    {
     "name": "stdout",
     "output_type": "stream",
     "text": [
      "\u001b[2m\u001b[36m(train_transformer pid=8175)\u001b[0m No of trainable parameters:  21284031\n"
     ]
    },
    {
     "name": "stderr",
     "output_type": "stream",
     "text": [
      "\u001b[2m\u001b[36m(train_transformer pid=8175)\u001b[0m 2022-05-04 05:35:23,142\tERROR function_runner.py:281 -- Runner Thread raised error.\n",
      "\u001b[2m\u001b[36m(train_transformer pid=8175)\u001b[0m Traceback (most recent call last):\n",
      "\u001b[2m\u001b[36m(train_transformer pid=8175)\u001b[0m   File \"/opt/apps/flight/env/conda+jupyter/lib/python3.9/site-packages/ray/tune/function_runner.py\", line 272, in run\n",
      "\u001b[2m\u001b[36m(train_transformer pid=8175)\u001b[0m     self._entrypoint()\n",
      "\u001b[2m\u001b[36m(train_transformer pid=8175)\u001b[0m   File \"/opt/apps/flight/env/conda+jupyter/lib/python3.9/site-packages/ray/tune/function_runner.py\", line 348, in entrypoint\n",
      "\u001b[2m\u001b[36m(train_transformer pid=8175)\u001b[0m     return self._trainable_func(\n",
      "\u001b[2m\u001b[36m(train_transformer pid=8175)\u001b[0m   File \"/opt/apps/flight/env/conda+jupyter/lib/python3.9/site-packages/ray/util/tracing/tracing_helper.py\", line 462, in _resume_span\n",
      "\u001b[2m\u001b[36m(train_transformer pid=8175)\u001b[0m     return method(self, *_args, **_kwargs)\n",
      "\u001b[2m\u001b[36m(train_transformer pid=8175)\u001b[0m   File \"/opt/apps/flight/env/conda+jupyter/lib/python3.9/site-packages/ray/tune/function_runner.py\", line 640, in _trainable_func\n",
      "\u001b[2m\u001b[36m(train_transformer pid=8175)\u001b[0m     output = fn()\n",
      "\u001b[2m\u001b[36m(train_transformer pid=8175)\u001b[0m   File \"/tmp/ipykernel_278399/2424503157.py\", line 25, in train_transformer\n",
      "\u001b[2m\u001b[36m(train_transformer pid=8175)\u001b[0m   File \"/tmp/ipykernel_278399/746676373.py\", line 24, in train\n",
      "\u001b[2m\u001b[36m(train_transformer pid=8175)\u001b[0m   File \"/opt/apps/flight/env/conda+jupyter/lib/python3.9/site-packages/torch/serialization.py\", line 376, in save\n",
      "\u001b[2m\u001b[36m(train_transformer pid=8175)\u001b[0m     with _open_file_like(f, 'wb') as opened_file:\n",
      "\u001b[2m\u001b[36m(train_transformer pid=8175)\u001b[0m   File \"/opt/apps/flight/env/conda+jupyter/lib/python3.9/site-packages/torch/serialization.py\", line 230, in _open_file_like\n",
      "\u001b[2m\u001b[36m(train_transformer pid=8175)\u001b[0m     return _open_file(name_or_buffer, mode)\n",
      "\u001b[2m\u001b[36m(train_transformer pid=8175)\u001b[0m   File \"/opt/apps/flight/env/conda+jupyter/lib/python3.9/site-packages/torch/serialization.py\", line 211, in __init__\n",
      "\u001b[2m\u001b[36m(train_transformer pid=8175)\u001b[0m     super(_open_file, self).__init__(open(name, mode))\n",
      "\u001b[2m\u001b[36m(train_transformer pid=8175)\u001b[0m FileNotFoundError: [Errno 2] No such file or directory: 'para/transformer.pth'\n",
      "\u001b[2m\u001b[36m(train_transformer pid=8175)\u001b[0m Exception in thread Thread-3:\n",
      "\u001b[2m\u001b[36m(train_transformer pid=8175)\u001b[0m Traceback (most recent call last):\n",
      "\u001b[2m\u001b[36m(train_transformer pid=8175)\u001b[0m   File \"/opt/apps/flight/env/conda+jupyter/lib/python3.9/threading.py\", line 954, in _bootstrap_inner\n",
      "\u001b[2m\u001b[36m(train_transformer pid=8175)\u001b[0m     self.run()\n",
      "\u001b[2m\u001b[36m(train_transformer pid=8175)\u001b[0m   File \"/opt/apps/flight/env/conda+jupyter/lib/python3.9/site-packages/ray/tune/function_runner.py\", line 298, in run\n",
      "\u001b[2m\u001b[36m(train_transformer pid=8175)\u001b[0m     raise e\n",
      "\u001b[2m\u001b[36m(train_transformer pid=8175)\u001b[0m   File \"/opt/apps/flight/env/conda+jupyter/lib/python3.9/site-packages/ray/tune/function_runner.py\", line 272, in run\n",
      "\u001b[2m\u001b[36m(train_transformer pid=8175)\u001b[0m     self._entrypoint()\n",
      "\u001b[2m\u001b[36m(train_transformer pid=8175)\u001b[0m   File \"/opt/apps/flight/env/conda+jupyter/lib/python3.9/site-packages/ray/tune/function_runner.py\", line 348, in entrypoint\n",
      "\u001b[2m\u001b[36m(train_transformer pid=8175)\u001b[0m     return self._trainable_func(\n",
      "\u001b[2m\u001b[36m(train_transformer pid=8175)\u001b[0m   File \"/opt/apps/flight/env/conda+jupyter/lib/python3.9/site-packages/ray/util/tracing/tracing_helper.py\", line 462, in _resume_span\n",
      "\u001b[2m\u001b[36m(train_transformer pid=8175)\u001b[0m     return method(self, *_args, **_kwargs)\n",
      "\u001b[2m\u001b[36m(train_transformer pid=8175)\u001b[0m   File \"/opt/apps/flight/env/conda+jupyter/lib/python3.9/site-packages/ray/tune/function_runner.py\", line 640, in _trainable_func\n",
      "\u001b[2m\u001b[36m(train_transformer pid=8175)\u001b[0m     output = fn()\n",
      "\u001b[2m\u001b[36m(train_transformer pid=8175)\u001b[0m   File \"/tmp/ipykernel_278399/2424503157.py\", line 25, in train_transformer\n",
      "\u001b[2m\u001b[36m(train_transformer pid=8175)\u001b[0m   File \"/tmp/ipykernel_278399/746676373.py\", line 24, in train\n",
      "\u001b[2m\u001b[36m(train_transformer pid=8175)\u001b[0m   File \"/opt/apps/flight/env/conda+jupyter/lib/python3.9/site-packages/torch/serialization.py\", line 376, in save\n",
      "\u001b[2m\u001b[36m(train_transformer pid=8175)\u001b[0m     with _open_file_like(f, 'wb') as opened_file:\n",
      "\u001b[2m\u001b[36m(train_transformer pid=8175)\u001b[0m   File \"/opt/apps/flight/env/conda+jupyter/lib/python3.9/site-packages/torch/serialization.py\", line 230, in _open_file_like\n",
      "\u001b[2m\u001b[36m(train_transformer pid=8175)\u001b[0m     return _open_file(name_or_buffer, mode)\n",
      "\u001b[2m\u001b[36m(train_transformer pid=8175)\u001b[0m   File \"/opt/apps/flight/env/conda+jupyter/lib/python3.9/site-packages/torch/serialization.py\", line 211, in __init__\n",
      "\u001b[2m\u001b[36m(train_transformer pid=8175)\u001b[0m     super(_open_file, self).__init__(open(name, mode))\n",
      "\u001b[2m\u001b[36m(train_transformer pid=8175)\u001b[0m FileNotFoundError: [Errno 2] No such file or directory: 'para/transformer.pth'\n",
      "2022-05-04 05:35:23,234\tERROR trial_runner.py:876 -- Trial train_transformer_1a138_00001: Error processing event.\n",
      "NoneType: None\n"
     ]
    },
    {
     "data": {
      "text/html": [
       "== Status ==<br>Current time: 2022-05-04 05:35:23 (running for 00:03:39.11)<br>Memory usage on this node: 33.9/376.2 GiB<br>Using AsyncHyperBand: num_stopped=0\n",
       "Bracket: Iter 64.000: None | Iter 16.000: None | Iter 4.000: None | Iter 1.000: None<br>Resources requested: 0/48 CPUs, 0/1 GPUs, 0.0/236.25 GiB heap, 0.0/105.24 GiB objects<br>Result logdir: /users/adcm168/ray_results/train_transformer_2022-05-04_05-31-44<br>Number of trials: 2/2 (2 ERROR)<br>Number of errored trials: 2<br><table>\n",
       "<thead>\n",
       "<tr><th>Trial name                   </th><th style=\"text-align: right;\">  # failures</th><th>error file                                                                                                                                                   </th></tr>\n",
       "</thead>\n",
       "<tbody>\n",
       "<tr><td>train_transformer_1a138_00000</td><td style=\"text-align: right;\">           1</td><td>/users/adcm168/ray_results/train_transformer_2022-05-04_05-31-44/train_transformer_1a138_00000_0_LR=4.7924e-05,drop_prob=0.2954_2022-05-04_05-31-46/error.txt</td></tr>\n",
       "<tr><td>train_transformer_1a138_00001</td><td style=\"text-align: right;\">           1</td><td>/users/adcm168/ray_results/train_transformer_2022-05-04_05-31-44/train_transformer_1a138_00001_1_LR=0.040277,drop_prob=0.2963_2022-05-04_05-33-35/error.txt  </td></tr>\n",
       "</tbody>\n",
       "</table><br>"
      ],
      "text/plain": [
       "<IPython.core.display.HTML object>"
      ]
     },
     "metadata": {},
     "output_type": "display_data"
    },
    {
     "ename": "TuneError",
     "evalue": "('Trials did not complete', [train_transformer_1a138_00000, train_transformer_1a138_00001])",
     "output_type": "error",
     "traceback": [
      "\u001b[0;31m---------------------------------------------------------------------------\u001b[0m",
      "\u001b[0;31mTuneError\u001b[0m                                 Traceback (most recent call last)",
      "\u001b[0;32m/tmp/ipykernel_278399/1225293018.py\u001b[0m in \u001b[0;36m<module>\u001b[0;34m\u001b[0m\n\u001b[0;32m----> 1\u001b[0;31m analysis = tune.run(\n\u001b[0m\u001b[1;32m      2\u001b[0m     \u001b[0mtrain_transformer\u001b[0m\u001b[0;34m,\u001b[0m\u001b[0;34m\u001b[0m\u001b[0;34m\u001b[0m\u001b[0m\n\u001b[1;32m      3\u001b[0m     \u001b[0mnum_samples\u001b[0m\u001b[0;34m=\u001b[0m\u001b[0;36m2\u001b[0m\u001b[0;34m,\u001b[0m\u001b[0;34m\u001b[0m\u001b[0;34m\u001b[0m\u001b[0m\n\u001b[1;32m      4\u001b[0m     \u001b[0mscheduler\u001b[0m\u001b[0;34m=\u001b[0m\u001b[0mASHAScheduler\u001b[0m\u001b[0;34m(\u001b[0m\u001b[0mmetric\u001b[0m\u001b[0;34m=\u001b[0m\u001b[0;34m\"mean_accuracy\"\u001b[0m\u001b[0;34m,\u001b[0m \u001b[0mmode\u001b[0m\u001b[0;34m=\u001b[0m\u001b[0;34m\"max\"\u001b[0m\u001b[0;34m)\u001b[0m\u001b[0;34m,\u001b[0m\u001b[0;34m\u001b[0m\u001b[0;34m\u001b[0m\u001b[0m\n\u001b[1;32m      5\u001b[0m     \u001b[0mprogress_reporter\u001b[0m\u001b[0;34m=\u001b[0m\u001b[0mreporter\u001b[0m\u001b[0;34m,\u001b[0m\u001b[0;34m\u001b[0m\u001b[0;34m\u001b[0m\u001b[0m\n",
      "\u001b[0;32m/opt/apps/flight/env/conda+jupyter/lib/python3.9/site-packages/ray/tune/tune.py\u001b[0m in \u001b[0;36mrun\u001b[0;34m(run_or_experiment, name, metric, mode, stop, time_budget_s, config, resources_per_trial, num_samples, local_dir, search_alg, scheduler, keep_checkpoints_num, checkpoint_score_attr, checkpoint_freq, checkpoint_at_end, verbose, progress_reporter, log_to_file, trial_name_creator, trial_dirname_creator, sync_config, export_formats, max_failures, fail_fast, restore, server_port, resume, reuse_actors, trial_executor, raise_on_failed_trial, callbacks, max_concurrent_trials, _experiment_checkpoint_dir, queue_trials, loggers, _remote)\u001b[0m\n\u001b[1;32m    693\u001b[0m     \u001b[0;32mif\u001b[0m \u001b[0mincomplete_trials\u001b[0m\u001b[0;34m:\u001b[0m\u001b[0;34m\u001b[0m\u001b[0;34m\u001b[0m\u001b[0m\n\u001b[1;32m    694\u001b[0m         \u001b[0;32mif\u001b[0m \u001b[0mraise_on_failed_trial\u001b[0m \u001b[0;32mand\u001b[0m \u001b[0;32mnot\u001b[0m \u001b[0mstate\u001b[0m\u001b[0;34m[\u001b[0m\u001b[0msignal\u001b[0m\u001b[0;34m.\u001b[0m\u001b[0mSIGINT\u001b[0m\u001b[0;34m]\u001b[0m\u001b[0;34m:\u001b[0m\u001b[0;34m\u001b[0m\u001b[0;34m\u001b[0m\u001b[0m\n\u001b[0;32m--> 695\u001b[0;31m             \u001b[0;32mraise\u001b[0m \u001b[0mTuneError\u001b[0m\u001b[0;34m(\u001b[0m\u001b[0;34m\"Trials did not complete\"\u001b[0m\u001b[0;34m,\u001b[0m \u001b[0mincomplete_trials\u001b[0m\u001b[0;34m)\u001b[0m\u001b[0;34m\u001b[0m\u001b[0;34m\u001b[0m\u001b[0m\n\u001b[0m\u001b[1;32m    696\u001b[0m         \u001b[0;32melse\u001b[0m\u001b[0;34m:\u001b[0m\u001b[0;34m\u001b[0m\u001b[0;34m\u001b[0m\u001b[0m\n\u001b[1;32m    697\u001b[0m             \u001b[0mlogger\u001b[0m\u001b[0;34m.\u001b[0m\u001b[0merror\u001b[0m\u001b[0;34m(\u001b[0m\u001b[0;34m\"Trials did not complete: %s\"\u001b[0m\u001b[0;34m,\u001b[0m \u001b[0mincomplete_trials\u001b[0m\u001b[0;34m)\u001b[0m\u001b[0;34m\u001b[0m\u001b[0;34m\u001b[0m\u001b[0m\n",
      "\u001b[0;31mTuneError\u001b[0m: ('Trials did not complete', [train_transformer_1a138_00000, train_transformer_1a138_00001])"
     ]
    }
   ],
   "source": [
    "analysis = tune.run(\n",
    "    train_transformer,\n",
    "    num_samples=2,\n",
    "    scheduler=ASHAScheduler(metric=\"mean_accuracy\", mode=\"max\"),\n",
    "    progress_reporter=reporter,\n",
    "    verbose=1,\n",
    "    config=config,\n",
    "    resources_per_trial={'gpu': 1}\n",
    ")"
   ]
  },
  {
   "cell_type": "code",
   "execution_count": null,
   "id": "1987dd96-f132-439e-a163-0e628e4ffe68",
   "metadata": {},
   "outputs": [],
   "source": [
    "# plot\n",
    "dfs = analysis.trial_dataframes\n",
    "[d.mean_accuracy.plot() for d in dfs.values()]\n",
    "# Plot by epoch\n",
    "ax = None  # This plots everything on the same plot\n",
    "for d in dfs.values():\n",
    "    ax = d.mean_accuracy.plot(ax=ax, legend=False)"
   ]
  },
  {
   "cell_type": "code",
   "execution_count": null,
   "id": "6ae1a76e-9221-4a27-b782-1a8d701e34c8",
   "metadata": {},
   "outputs": [],
   "source": [
    "print(\"Best hyperparameters found were: \", analysis.best_config)"
   ]
  },
  {
   "cell_type": "code",
   "execution_count": null,
   "id": "ff9a4aa9-0bf1-4cd1-8a82-cedbde571e90",
   "metadata": {},
   "outputs": [],
   "source": [
    "#evaluate and load\n",
    "\n",
    "df = analysis.results_df\n",
    "logdir = analysis.get_best_logdir(\"mean_accuracy\", mode=\"max\")\n",
    "state_dict = torch.load(os.path.join(logdir, \"model.pth\"))\n",
    "\n",
    "model_t = Transformer(vocab_size, EMBED_SIZE, num_heads, hidden_dim, n_layers, MAX_LEN, dropout).to(device)\n",
    "model_t.load_state_dict(state_dict)"
   ]
  },
  {
   "cell_type": "code",
   "execution_count": null,
   "id": "e2559c78-97b9-415a-bd40-6098275bd712",
   "metadata": {},
   "outputs": [],
   "source": [
    "confusion_m, acc, precision, recall = performance(model_t, valid_dl, binaryloss=True)"
   ]
  },
  {
   "cell_type": "code",
   "execution_count": null,
   "id": "765e2525-f373-45ad-b983-feb17d97cc34",
   "metadata": {},
   "outputs": [],
   "source": []
  }
 ],
 "metadata": {
  "kernelspec": {
   "display_name": "Python 3 (ipykernel)",
   "language": "python",
   "name": "python3"
  },
  "language_info": {
   "codemirror_mode": {
    "name": "ipython",
    "version": 3
   },
   "file_extension": ".py",
   "mimetype": "text/x-python",
   "name": "python",
   "nbconvert_exporter": "python",
   "pygments_lexer": "ipython3",
   "version": "3.9.5"
  }
 },
 "nbformat": 4,
 "nbformat_minor": 5
}
